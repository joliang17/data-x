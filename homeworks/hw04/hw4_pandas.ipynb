{
 "cells": [
  {
   "cell_type": "markdown",
   "metadata": {},
   "source": [
    "# Homework 4 - Pandas"
   ]
  },
  {
   "cell_type": "markdown",
   "metadata": {},
   "source": [
    "## NAME: Yijun Liang"
   ]
  },
  {
   "cell_type": "markdown",
   "metadata": {},
   "source": [
    "## STUDENT ID: 3033099994"
   ]
  },
  {
   "cell_type": "code",
   "execution_count": 41,
   "metadata": {},
   "outputs": [],
   "source": [
    "# Load required modules\n",
    "import numpy as np\n",
    "import pandas as pd\n",
    "import matplotlib.pyplot as plt\n",
    "%matplotlib inline"
   ]
  },
  {
   "cell_type": "markdown",
   "metadata": {},
   "source": [
    "## Pandas Introduction\n",
    "\n",
    "## Reading File"
   ]
  },
  {
   "cell_type": "markdown",
   "metadata": {},
   "source": [
    "#### 1.1) Read the CSV file called 'data3.csv' into a dataframe called df. \n",
    "#### Data description\n",
    "* Data source: http://www.fao.org/nr/water/aquastat/data/query/index.html\n",
    "* Data, units:\n",
    "* GDP, current USD (CPI adjusted)\n",
    "* NRI, mm/yr\n",
    "* Population density, inhab/km^2\n",
    "* Total area of the country, 1000 ha = 10km^2\n",
    "* Total Population, unit 1000 inhabitants"
   ]
  },
  {
   "cell_type": "code",
   "execution_count": 42,
   "metadata": {},
   "outputs": [],
   "source": [
    "# your code here\n",
    "df = pd.read_csv('data3.csv')"
   ]
  },
  {
   "cell_type": "markdown",
   "metadata": {},
   "source": [
    "#### 1.2) Display the first 10 rows of the dataframe."
   ]
  },
  {
   "cell_type": "code",
   "execution_count": 43,
   "metadata": {},
   "outputs": [
    {
     "name": "stdout",
     "output_type": "stream",
     "text": "Area  Area Id              Variable Name  Variable Id    Year  \\\n0  Argentina      9.0  Total area of the country       4100.0  1962.0   \n1  Argentina      9.0  Total area of the country       4100.0  1967.0   \n2  Argentina      9.0  Total area of the country       4100.0  1972.0   \n3  Argentina      9.0  Total area of the country       4100.0  1977.0   \n4  Argentina      9.0  Total area of the country       4100.0  1982.0   \n5  Argentina      9.0  Total area of the country       4100.0  1987.0   \n6  Argentina      9.0  Total area of the country       4100.0  1992.0   \n7  Argentina      9.0  Total area of the country       4100.0  1997.0   \n8  Argentina      9.0  Total area of the country       4100.0  2002.0   \n9  Argentina      9.0  Total area of the country       4100.0  2007.0   \n\n      Value Symbol  Other  \n0  278040.0      E    NaN  \n1  278040.0      E    NaN  \n2  278040.0      E    NaN  \n3  278040.0      E    NaN  \n4  278040.0      E    NaN  \n5  278040.0      E    NaN  \n6  278040.0      E    NaN  \n7  278040.0      E    NaN  \n8  278040.0      E    NaN  \n9  278040.0      E    NaN  \n"
    }
   ],
   "source": [
    "# your code here\n",
    "print(df.head(10))"
   ]
  },
  {
   "cell_type": "markdown",
   "metadata": {},
   "source": [
    "#### 1.3) Display the column names."
   ]
  },
  {
   "cell_type": "code",
   "execution_count": 44,
   "metadata": {},
   "outputs": [
    {
     "name": "stdout",
     "output_type": "stream",
     "text": "Index(['Area', 'Area Id', 'Variable Name', 'Variable Id', 'Year', 'Value',\n       'Symbol', 'Other'],\n      dtype='object')\n"
    }
   ],
   "source": [
    "# your code here\n",
    "print(df.columns)"
   ]
  },
  {
   "cell_type": "markdown",
   "metadata": {},
   "source": [
    "#### 1.4) Use iloc to display the first 3 rows and first 4 columns."
   ]
  },
  {
   "cell_type": "code",
   "execution_count": 45,
   "metadata": {},
   "outputs": [
    {
     "name": "stdout",
     "output_type": "stream",
     "text": "Area  Area Id              Variable Name  Variable Id\n0  Argentina      9.0  Total area of the country       4100.0\n1  Argentina      9.0  Total area of the country       4100.0\n2  Argentina      9.0  Total area of the country       4100.0\n"
    }
   ],
   "source": [
    "# your code here\n",
    "print(df.iloc[:3, :4])"
   ]
  },
  {
   "cell_type": "markdown",
   "metadata": {},
   "source": [
    "## Data Preprocessing\n",
    "\n",
    "#### 2.1) Find all the rows that  have 'NaN' in the 'Symbol' column. Display first 5 rows.\n",
    "\n",
    "##### Hint : You might have to use a mask"
   ]
  },
  {
   "cell_type": "code",
   "execution_count": 46,
   "metadata": {},
   "outputs": [
    {
     "name": "stdout",
     "output_type": "stream",
     "text": "Area  Area Id              Variable Name  Variable Id    Year  \\\n0  Argentina      9.0  Total area of the country       4100.0  1962.0   \n1  Argentina      9.0  Total area of the country       4100.0  1967.0   \n2  Argentina      9.0  Total area of the country       4100.0  1972.0   \n3  Argentina      9.0  Total area of the country       4100.0  1977.0   \n4  Argentina      9.0  Total area of the country       4100.0  1982.0   \n\n      Value Symbol  Other  \n0  278040.0      E    NaN  \n1  278040.0      E    NaN  \n2  278040.0      E    NaN  \n3  278040.0      E    NaN  \n4  278040.0      E    NaN  \n"
    }
   ],
   "source": [
    "# your code here\n",
    "df[df.loc[:,'Symbol'].isnull()]\n",
    "print(df.head(5))"
   ]
  },
  {
   "cell_type": "markdown",
   "metadata": {},
   "source": [
    "#### 2.2)  Now, we will try to get rid of the NaN valued rows and columns. First, drop the column 'Other' which only has 'NaN' values. Then drop all other rows that have any column with a value 'NaN'. Store the result in place. Then display the last 5 rows of the dataframe."
   ]
  },
  {
   "cell_type": "code",
   "execution_count": 47,
   "metadata": {},
   "outputs": [
    {
     "name": "stdout",
     "output_type": "stream",
     "text": "Area  Area Id                  Variable Name  \\\n385  United States of America    231.0  National Rainfall Index (NRI)   \n386  United States of America    231.0  National Rainfall Index (NRI)   \n387  United States of America    231.0  National Rainfall Index (NRI)   \n388  United States of America    231.0  National Rainfall Index (NRI)   \n389  United States of America    231.0  National Rainfall Index (NRI)   \n\n     Variable Id    Year   Value Symbol  \n385       4472.0  1981.0   949.2      E  \n386       4472.0  1984.0   974.6      E  \n387       4472.0  1992.0  1020.0      E  \n388       4472.0  1996.0  1005.0      E  \n389       4472.0  2002.0   938.7      E  \n"
    }
   ],
   "source": [
    "# your code here\n",
    "df.drop('Other', axis=1, inplace=True)\n",
    "df.dropna(axis=0, inplace=True)\n",
    "print(df.tail(5))"
   ]
  },
  {
   "cell_type": "markdown",
   "metadata": {},
   "source": [
    "#### 2.3) For our analysis we do not want all the columns in our dataframe. Lets  drop all the redundant columns/ features.   \n",
    "#### **Drop columns**: **Area Id, Variable Id, Symbol**. Save the new dataframe as df1. Display the first 5 rows of the new dataframe."
   ]
  },
  {
   "cell_type": "code",
   "execution_count": 48,
   "metadata": {},
   "outputs": [
    {
     "name": "stdout",
     "output_type": "stream",
     "text": "Area              Variable Name    Year     Value\n0  Argentina  Total area of the country  1962.0  278040.0\n1  Argentina  Total area of the country  1967.0  278040.0\n2  Argentina  Total area of the country  1972.0  278040.0\n3  Argentina  Total area of the country  1977.0  278040.0\n4  Argentina  Total area of the country  1982.0  278040.0\n"
    }
   ],
   "source": [
    "# your code here\n",
    "df1 = df.drop(['Area Id', 'Variable Id', 'Symbol'], axis=1)\n",
    "print(df1.head(5))"
   ]
  },
  {
   "cell_type": "markdown",
   "metadata": {},
   "source": [
    "#### 2.4) Display all the unique values in your new dataframe for each of the columns: Area, Variable Name, Year."
   ]
  },
  {
   "cell_type": "code",
   "execution_count": 49,
   "metadata": {},
   "outputs": [
    {
     "name": "stdout",
     "output_type": "stream",
     "text": "['Argentina' 'Australia' 'Germany' 'Iceland' 'Ireland' 'Sweden'\n 'United States of America']\n['Total area of the country' 'Total population' 'Population density'\n 'Gross Domestic Product (GDP)' 'National Rainfall Index (NRI)']\n[1962. 1967. 1972. 1977. 1982. 1987. 1992. 1997. 2002. 2007. 2012. 2014.\n 2015. 1963. 1970. 1974. 1978. 1984. 1990. 1964. 1981. 1985. 1996. 2001.\n 1969. 1973. 1979. 1993. 1971. 1975. 1986. 1991. 1998. 2000. 1965. 1983.\n 1988. 1995.]\n"
    }
   ],
   "source": [
    "# your code here\n",
    "print(pd.unique(df1['Area']))\n",
    "print(pd.unique(df1['Variable Name']))\n",
    "print(pd.unique(df1['Year']))"
   ]
  },
  {
   "cell_type": "markdown",
   "metadata": {},
   "source": [
    "#### 2.5) Convert the 'Year' column float values to pandas datetime objects, where each year is represented as the first day of that year. Also display the first 5 values of the Year column after conversion.\n",
    "\n",
    "##### For eg: 1962.0 will be represented as 1962-01-01 "
   ]
  },
  {
   "cell_type": "code",
   "execution_count": 50,
   "metadata": {},
   "outputs": [
    {
     "name": "stdout",
     "output_type": "stream",
     "text": "0   1962-01-01\n1   1967-01-01\n2   1972-01-01\n3   1977-01-01\n4   1982-01-01\nName: Year, dtype: datetime64[ns]\n"
    }
   ],
   "source": [
    "# your code here\n",
    "# df1.loc[:,'Year'] = df1.loc[;]\n",
    "\n",
    "df1.loc[:,'Year'] = pd.to_datetime(df1.loc[:,'Year'], format='%Y') \n",
    "print(df1.loc[:,'Year'].head(5))"
   ]
  },
  {
   "cell_type": "markdown",
   "metadata": {},
   "source": [
    "## Plot"
   ]
  },
  {
   "cell_type": "markdown",
   "metadata": {},
   "source": [
    "#### 3.1) Plot a bar graph showing the count for each unique value in the column 'Area'. Give it a title."
   ]
  },
  {
   "cell_type": "code",
   "execution_count": 51,
   "metadata": {},
   "outputs": [
    {
     "data": {
      "text/plain": "<matplotlib.axes._subplots.AxesSubplot at 0x1f592326248>"
     },
     "execution_count": 51,
     "metadata": {},
     "output_type": "execute_result"
    },
    {
     "data": {
      "image/png": "[encoded data removed]",
      "image/svg+xml": "<?xml version=\"1.0\" encoding=\"utf-8\" standalone=\"no\"?>\r\n<!DOCTYPE svg PUBLIC \"-//W3C//DTD SVG 1.1//EN\"\r\n  \"http://www.w3.org/Graphics/SVG/1.1/DTD/svg11.dtd\">\r\n<!-- Created with matplotlib (https://matplotlib.org/) -->\r\n<svg height=\"378.9175pt\" version=\"1.1\" viewBox=\"0 0 368.925 378.9175\" width=\"368.925pt\" xmlns=\"http://www.w3.org/2000/svg\" xmlns:xlink=\"http://www.w3.org/1999/xlink\">\r\n <defs>\r\n  <style type=\"text/css\">\r\n*{stroke-linecap:butt;stroke-linejoin:round;}\r\n  </style>\r\n </defs>\r\n <g id=\"figure_1\">\r\n  <g id=\"patch_1\">\r\n   <path d=\"M -0 378.9175 \r\nL 368.925 378.9175 \r\nL 368.925 0 \r\nL -0 0 \r\nz\r\n\" style=\"fill:none;\"/>\r\n  </g>\r\n  <g id=\"axes_1\">\r\n   <g id=\"patch_2\">\r\n    <path d=\"M 26.925 239.758125 \r\nL 361.725 239.758125 \r\nL 361.725 22.318125 \r\nL 26.925 22.318125 \r\nz\r\n\" style=\"fill:#ffffff;\"/>\r\n   </g>\r\n   <g id=\"patch_3\">\r\n    <path clip-path=\"url(#p0c38b3a308)\" d=\"M 38.882143 239.758125 \r\nL 62.796429 239.758125 \r\nL 62.796429 32.672411 \r\nL 38.882143 32.672411 \r\nz\r\n\" style=\"fill:#1f77b4;\"/>\r\n   </g>\r\n   <g id=\"patch_4\">\r\n    <path clip-path=\"url(#p0c38b3a308)\" d=\"M 86.710714 239.758125 \r\nL 110.625 239.758125 \r\nL 110.625 32.672411 \r\nL 86.710714 32.672411 \r\nz\r\n\" style=\"fill:#1f77b4;\"/>\r\n   </g>\r\n   <g id=\"patch_5\">\r\n    <path clip-path=\"url(#p0c38b3a308)\" d=\"M 134.539286 239.758125 \r\nL 158.453571 239.758125 \r\nL 158.453571 32.672411 \r\nL 134.539286 32.672411 \r\nz\r\n\" style=\"fill:#1f77b4;\"/>\r\n   </g>\r\n   <g id=\"patch_6\">\r\n    <path clip-path=\"url(#p0c38b3a308)\" d=\"M 182.367857 239.758125 \r\nL 206.282143 239.758125 \r\nL 206.282143 32.672411 \r\nL 182.367857 32.672411 \r\nz\r\n\" style=\"fill:#1f77b4;\"/>\r\n   </g>\r\n   <g id=\"patch_7\">\r\n    <path clip-path=\"url(#p0c38b3a308)\" d=\"M 230.196429 239.758125 \r\nL 254.110714 239.758125 \r\nL 254.110714 32.672411 \r\nL 230.196429 32.672411 \r\nz\r\n\" style=\"fill:#1f77b4;\"/>\r\n   </g>\r\n   <g id=\"patch_8\">\r\n    <path clip-path=\"url(#p0c38b3a308)\" d=\"M 278.025 239.758125 \r\nL 301.939286 239.758125 \r\nL 301.939286 32.672411 \r\nL 278.025 32.672411 \r\nz\r\n\" style=\"fill:#1f77b4;\"/>\r\n   </g>\r\n   <g id=\"patch_9\">\r\n    <path clip-path=\"url(#p0c38b3a308)\" d=\"M 325.853571 239.758125 \r\nL 349.767857 239.758125 \r\nL 349.767857 40.068329 \r\nL 325.853571 40.068329 \r\nz\r\n\" style=\"fill:#1f77b4;\"/>\r\n   </g>\r\n   <g id=\"matplotlib.axis_1\">\r\n    <g id=\"xtick_1\">\r\n     <g id=\"line2d_1\">\r\n      <defs>\r\n       <path d=\"M 0 0 \r\nL 0 3.5 \r\n\" id=\"mfd787a1d47\" style=\"stroke:#000000;stroke-width:0.8;\"/>\r\n      </defs>\r\n      <g>\r\n       <use style=\"stroke:#000000;stroke-width:0.8;\" x=\"50.839286\" xlink:href=\"#mfd787a1d47\" y=\"239.758125\"/>\r\n      </g>\r\n     </g>\r\n     <g id=\"text_1\">\r\n      <!-- United States of America -->\r\n      <defs>\r\n       <path d=\"M 8.6875 72.90625 \r\nL 18.609375 72.90625 \r\nL 18.609375 28.609375 \r\nQ 18.609375 16.890625 22.84375 11.734375 \r\nQ 27.09375 6.59375 36.625 6.59375 \r\nQ 46.09375 6.59375 50.34375 11.734375 \r\nQ 54.59375 16.890625 54.59375 28.609375 \r\nL 54.59375 72.90625 \r\nL 64.5 72.90625 \r\nL 64.5 27.390625 \r\nQ 64.5 13.140625 57.4375 5.859375 \r\nQ 50.390625 -1.421875 36.625 -1.421875 \r\nQ 22.796875 -1.421875 15.734375 5.859375 \r\nQ 8.6875 13.140625 8.6875 27.390625 \r\nz\r\n\" id=\"DejaVuSans-85\"/>\r\n       <path d=\"M 54.890625 33.015625 \r\nL 54.890625 0 \r\nL 45.90625 0 \r\nL 45.90625 32.71875 \r\nQ 45.90625 40.484375 42.875 44.328125 \r\nQ 39.84375 48.1875 33.796875 48.1875 \r\nQ 26.515625 48.1875 22.3125 43.546875 \r\nQ 18.109375 38.921875 18.109375 30.90625 \r\nL 18.109375 0 \r\nL 9.078125 0 \r\nL 9.078125 54.6875 \r\nL 18.109375 54.6875 \r\nL 18.109375 46.1875 \r\nQ 21.34375 51.125 25.703125 53.5625 \r\nQ 30.078125 56 35.796875 56 \r\nQ 45.21875 56 50.046875 50.171875 \r\nQ 54.890625 44.34375 54.890625 33.015625 \r\nz\r\n\" id=\"DejaVuSans-110\"/>\r\n       <path d=\"M 9.421875 54.6875 \r\nL 18.40625 54.6875 \r\nL 18.40625 0 \r\nL 9.421875 0 \r\nz\r\nM 9.421875 75.984375 \r\nL 18.40625 75.984375 \r\nL 18.40625 64.59375 \r\nL 9.421875 64.59375 \r\nz\r\n\" id=\"DejaVuSans-105\"/>\r\n       <path d=\"M 18.3125 70.21875 \r\nL 18.3125 54.6875 \r\nL 36.8125 54.6875 \r\nL 36.8125 47.703125 \r\nL 18.3125 47.703125 \r\nL 18.3125 18.015625 \r\nQ 18.3125 11.328125 20.140625 9.421875 \r\nQ 21.96875 7.515625 27.59375 7.515625 \r\nL 36.8125 7.515625 \r\nL 36.8125 0 \r\nL 27.59375 0 \r\nQ 17.1875 0 13.234375 3.875 \r\nQ 9.28125 7.765625 9.28125 18.015625 \r\nL 9.28125 47.703125 \r\nL 2.6875 47.703125 \r\nL 2.6875 54.6875 \r\nL 9.28125 54.6875 \r\nL 9.28125 70.21875 \r\nz\r\n\" id=\"DejaVuSans-116\"/>\r\n       <path d=\"M 56.203125 29.59375 \r\nL 56.203125 25.203125 \r\nL 14.890625 25.203125 \r\nQ 15.484375 15.921875 20.484375 11.0625 \r\nQ 25.484375 6.203125 34.421875 6.203125 \r\nQ 39.59375 6.203125 44.453125 7.46875 \r\nQ 49.3125 8.734375 54.109375 11.28125 \r\nL 54.109375 2.78125 \r\nQ 49.265625 0.734375 44.1875 -0.34375 \r\nQ 39.109375 -1.421875 33.890625 -1.421875 \r\nQ 20.796875 -1.421875 13.15625 6.1875 \r\nQ 5.515625 13.8125 5.515625 26.8125 \r\nQ 5.515625 40.234375 12.765625 48.109375 \r\nQ 20.015625 56 32.328125 56 \r\nQ 43.359375 56 49.78125 48.890625 \r\nQ 56.203125 41.796875 56.203125 29.59375 \r\nz\r\nM 47.21875 32.234375 \r\nQ 47.125 39.59375 43.09375 43.984375 \r\nQ 39.0625 48.390625 32.421875 48.390625 \r\nQ 24.90625 48.390625 20.390625 44.140625 \r\nQ 15.875 39.890625 15.1875 32.171875 \r\nz\r\n\" id=\"DejaVuSans-101\"/>\r\n       <path d=\"M 45.40625 46.390625 \r\nL 45.40625 75.984375 \r\nL 54.390625 75.984375 \r\nL 54.390625 0 \r\nL 45.40625 0 \r\nL 45.40625 8.203125 \r\nQ 42.578125 3.328125 38.25 0.953125 \r\nQ 33.9375 -1.421875 27.875 -1.421875 \r\nQ 17.96875 -1.421875 11.734375 6.484375 \r\nQ 5.515625 14.40625 5.515625 27.296875 \r\nQ 5.515625 40.1875 11.734375 48.09375 \r\nQ 17.96875 56 27.875 56 \r\nQ 33.9375 56 38.25 53.625 \r\nQ 42.578125 51.265625 45.40625 46.390625 \r\nz\r\nM 14.796875 27.296875 \r\nQ 14.796875 17.390625 18.875 11.75 \r\nQ 22.953125 6.109375 30.078125 6.109375 \r\nQ 37.203125 6.109375 41.296875 11.75 \r\nQ 45.40625 17.390625 45.40625 27.296875 \r\nQ 45.40625 37.203125 41.296875 42.84375 \r\nQ 37.203125 48.484375 30.078125 48.484375 \r\nQ 22.953125 48.484375 18.875 42.84375 \r\nQ 14.796875 37.203125 14.796875 27.296875 \r\nz\r\n\" id=\"DejaVuSans-100\"/>\r\n       <path id=\"DejaVuSans-32\"/>\r\n       <path d=\"M 53.515625 70.515625 \r\nL 53.515625 60.890625 \r\nQ 47.90625 63.578125 42.921875 64.890625 \r\nQ 37.9375 66.21875 33.296875 66.21875 \r\nQ 25.25 66.21875 20.875 63.09375 \r\nQ 16.5 59.96875 16.5 54.203125 \r\nQ 16.5 49.359375 19.40625 46.890625 \r\nQ 22.3125 44.4375 30.421875 42.921875 \r\nL 36.375 41.703125 \r\nQ 47.40625 39.59375 52.65625 34.296875 \r\nQ 57.90625 29 57.90625 20.125 \r\nQ 57.90625 9.515625 50.796875 4.046875 \r\nQ 43.703125 -1.421875 29.984375 -1.421875 \r\nQ 24.8125 -1.421875 18.96875 -0.25 \r\nQ 13.140625 0.921875 6.890625 3.21875 \r\nL 6.890625 13.375 \r\nQ 12.890625 10.015625 18.65625 8.296875 \r\nQ 24.421875 6.59375 29.984375 6.59375 \r\nQ 38.421875 6.59375 43.015625 9.90625 \r\nQ 47.609375 13.234375 47.609375 19.390625 \r\nQ 47.609375 24.75 44.3125 27.78125 \r\nQ 41.015625 30.8125 33.5 32.328125 \r\nL 27.484375 33.5 \r\nQ 16.453125 35.6875 11.515625 40.375 \r\nQ 6.59375 45.0625 6.59375 53.421875 \r\nQ 6.59375 63.09375 13.40625 68.65625 \r\nQ 20.21875 74.21875 32.171875 74.21875 \r\nQ 37.3125 74.21875 42.625 73.28125 \r\nQ 47.953125 72.359375 53.515625 70.515625 \r\nz\r\n\" id=\"DejaVuSans-83\"/>\r\n       <path d=\"M 34.28125 27.484375 \r\nQ 23.390625 27.484375 19.1875 25 \r\nQ 14.984375 22.515625 14.984375 16.5 \r\nQ 14.984375 11.71875 18.140625 8.90625 \r\nQ 21.296875 6.109375 26.703125 6.109375 \r\nQ 34.1875 6.109375 38.703125 11.40625 \r\nQ 43.21875 16.703125 43.21875 25.484375 \r\nL 43.21875 27.484375 \r\nz\r\nM 52.203125 31.203125 \r\nL 52.203125 0 \r\nL 43.21875 0 \r\nL 43.21875 8.296875 \r\nQ 40.140625 3.328125 35.546875 0.953125 \r\nQ 30.953125 -1.421875 24.3125 -1.421875 \r\nQ 15.921875 -1.421875 10.953125 3.296875 \r\nQ 6 8.015625 6 15.921875 \r\nQ 6 25.140625 12.171875 29.828125 \r\nQ 18.359375 34.515625 30.609375 34.515625 \r\nL 43.21875 34.515625 \r\nL 43.21875 35.40625 \r\nQ 43.21875 41.609375 39.140625 45 \r\nQ 35.0625 48.390625 27.6875 48.390625 \r\nQ 23 48.390625 18.546875 47.265625 \r\nQ 14.109375 46.140625 10.015625 43.890625 \r\nL 10.015625 52.203125 \r\nQ 14.9375 54.109375 19.578125 55.046875 \r\nQ 24.21875 56 28.609375 56 \r\nQ 40.484375 56 46.34375 49.84375 \r\nQ 52.203125 43.703125 52.203125 31.203125 \r\nz\r\n\" id=\"DejaVuSans-97\"/>\r\n       <path d=\"M 44.28125 53.078125 \r\nL 44.28125 44.578125 \r\nQ 40.484375 46.53125 36.375 47.5 \r\nQ 32.28125 48.484375 27.875 48.484375 \r\nQ 21.1875 48.484375 17.84375 46.4375 \r\nQ 14.5 44.390625 14.5 40.28125 \r\nQ 14.5 37.15625 16.890625 35.375 \r\nQ 19.28125 33.59375 26.515625 31.984375 \r\nL 29.59375 31.296875 \r\nQ 39.15625 29.25 43.1875 25.515625 \r\nQ 47.21875 21.78125 47.21875 15.09375 \r\nQ 47.21875 7.46875 41.1875 3.015625 \r\nQ 35.15625 -1.421875 24.609375 -1.421875 \r\nQ 20.21875 -1.421875 15.453125 -0.5625 \r\nQ 10.6875 0.296875 5.421875 2 \r\nL 5.421875 11.28125 \r\nQ 10.40625 8.6875 15.234375 7.390625 \r\nQ 20.0625 6.109375 24.8125 6.109375 \r\nQ 31.15625 6.109375 34.5625 8.28125 \r\nQ 37.984375 10.453125 37.984375 14.40625 \r\nQ 37.984375 18.0625 35.515625 20.015625 \r\nQ 33.0625 21.96875 24.703125 23.78125 \r\nL 21.578125 24.515625 \r\nQ 13.234375 26.265625 9.515625 29.90625 \r\nQ 5.8125 33.546875 5.8125 39.890625 \r\nQ 5.8125 47.609375 11.28125 51.796875 \r\nQ 16.75 56 26.8125 56 \r\nQ 31.78125 56 36.171875 55.265625 \r\nQ 40.578125 54.546875 44.28125 53.078125 \r\nz\r\n\" id=\"DejaVuSans-115\"/>\r\n       <path d=\"M 30.609375 48.390625 \r\nQ 23.390625 48.390625 19.1875 42.75 \r\nQ 14.984375 37.109375 14.984375 27.296875 \r\nQ 14.984375 17.484375 19.15625 11.84375 \r\nQ 23.34375 6.203125 30.609375 6.203125 \r\nQ 37.796875 6.203125 41.984375 11.859375 \r\nQ 46.1875 17.53125 46.1875 27.296875 \r\nQ 46.1875 37.015625 41.984375 42.703125 \r\nQ 37.796875 48.390625 30.609375 48.390625 \r\nz\r\nM 30.609375 56 \r\nQ 42.328125 56 49.015625 48.375 \r\nQ 55.71875 40.765625 55.71875 27.296875 \r\nQ 55.71875 13.875 49.015625 6.21875 \r\nQ 42.328125 -1.421875 30.609375 -1.421875 \r\nQ 18.84375 -1.421875 12.171875 6.21875 \r\nQ 5.515625 13.875 5.515625 27.296875 \r\nQ 5.515625 40.765625 12.171875 48.375 \r\nQ 18.84375 56 30.609375 56 \r\nz\r\n\" id=\"DejaVuSans-111\"/>\r\n       <path d=\"M 37.109375 75.984375 \r\nL 37.109375 68.5 \r\nL 28.515625 68.5 \r\nQ 23.6875 68.5 21.796875 66.546875 \r\nQ 19.921875 64.59375 19.921875 59.515625 \r\nL 19.921875 54.6875 \r\nL 34.71875 54.6875 \r\nL 34.71875 47.703125 \r\nL 19.921875 47.703125 \r\nL 19.921875 0 \r\nL 10.890625 0 \r\nL 10.890625 47.703125 \r\nL 2.296875 47.703125 \r\nL 2.296875 54.6875 \r\nL 10.890625 54.6875 \r\nL 10.890625 58.5 \r\nQ 10.890625 67.625 15.140625 71.796875 \r\nQ 19.390625 75.984375 28.609375 75.984375 \r\nz\r\n\" id=\"DejaVuSans-102\"/>\r\n       <path d=\"M 34.1875 63.1875 \r\nL 20.796875 26.90625 \r\nL 47.609375 26.90625 \r\nz\r\nM 28.609375 72.90625 \r\nL 39.796875 72.90625 \r\nL 67.578125 0 \r\nL 57.328125 0 \r\nL 50.6875 18.703125 \r\nL 17.828125 18.703125 \r\nL 11.1875 0 \r\nL 0.78125 0 \r\nz\r\n\" id=\"DejaVuSans-65\"/>\r\n       <path d=\"M 52 44.1875 \r\nQ 55.375 50.25 60.0625 53.125 \r\nQ 64.75 56 71.09375 56 \r\nQ 79.640625 56 84.28125 50.015625 \r\nQ 88.921875 44.046875 88.921875 33.015625 \r\nL 88.921875 0 \r\nL 79.890625 0 \r\nL 79.890625 32.71875 \r\nQ 79.890625 40.578125 77.09375 44.375 \r\nQ 74.3125 48.1875 68.609375 48.1875 \r\nQ 61.625 48.1875 57.5625 43.546875 \r\nQ 53.515625 38.921875 53.515625 30.90625 \r\nL 53.515625 0 \r\nL 44.484375 0 \r\nL 44.484375 32.71875 \r\nQ 44.484375 40.625 41.703125 44.40625 \r\nQ 38.921875 48.1875 33.109375 48.1875 \r\nQ 26.21875 48.1875 22.15625 43.53125 \r\nQ 18.109375 38.875 18.109375 30.90625 \r\nL 18.109375 0 \r\nL 9.078125 0 \r\nL 9.078125 54.6875 \r\nL 18.109375 54.6875 \r\nL 18.109375 46.1875 \r\nQ 21.1875 51.21875 25.484375 53.609375 \r\nQ 29.78125 56 35.6875 56 \r\nQ 41.65625 56 45.828125 52.96875 \r\nQ 50 49.953125 52 44.1875 \r\nz\r\n\" id=\"DejaVuSans-109\"/>\r\n       <path d=\"M 41.109375 46.296875 \r\nQ 39.59375 47.171875 37.8125 47.578125 \r\nQ 36.03125 48 33.890625 48 \r\nQ 26.265625 48 22.1875 43.046875 \r\nQ 18.109375 38.09375 18.109375 28.8125 \r\nL 18.109375 0 \r\nL 9.078125 0 \r\nL 9.078125 54.6875 \r\nL 18.109375 54.6875 \r\nL 18.109375 46.1875 \r\nQ 20.953125 51.171875 25.484375 53.578125 \r\nQ 30.03125 56 36.53125 56 \r\nQ 37.453125 56 38.578125 55.875 \r\nQ 39.703125 55.765625 41.0625 55.515625 \r\nz\r\n\" id=\"DejaVuSans-114\"/>\r\n       <path d=\"M 48.78125 52.59375 \r\nL 48.78125 44.1875 \r\nQ 44.96875 46.296875 41.140625 47.34375 \r\nQ 37.3125 48.390625 33.40625 48.390625 \r\nQ 24.65625 48.390625 19.8125 42.84375 \r\nQ 14.984375 37.3125 14.984375 27.296875 \r\nQ 14.984375 17.28125 19.8125 11.734375 \r\nQ 24.65625 6.203125 33.40625 6.203125 \r\nQ 37.3125 6.203125 41.140625 7.25 \r\nQ 44.96875 8.296875 48.78125 10.40625 \r\nL 48.78125 2.09375 \r\nQ 45.015625 0.34375 40.984375 -0.53125 \r\nQ 36.96875 -1.421875 32.421875 -1.421875 \r\nQ 20.0625 -1.421875 12.78125 6.34375 \r\nQ 5.515625 14.109375 5.515625 27.296875 \r\nQ 5.515625 40.671875 12.859375 48.328125 \r\nQ 20.21875 56 33.015625 56 \r\nQ 37.15625 56 41.109375 55.140625 \r\nQ 45.0625 54.296875 48.78125 52.59375 \r\nz\r\n\" id=\"DejaVuSans-99\"/>\r\n      </defs>\r\n      <g transform=\"translate(53.598661 371.7175)rotate(-90)scale(0.1 -0.1)\">\r\n       <use xlink:href=\"#DejaVuSans-85\"/>\r\n       <use x=\"73.193359\" xlink:href=\"#DejaVuSans-110\"/>\r\n       <use x=\"136.572266\" xlink:href=\"#DejaVuSans-105\"/>\r\n       <use x=\"164.355469\" xlink:href=\"#DejaVuSans-116\"/>\r\n       <use x=\"203.564453\" xlink:href=\"#DejaVuSans-101\"/>\r\n       <use x=\"265.087891\" xlink:href=\"#DejaVuSans-100\"/>\r\n       <use x=\"328.564453\" xlink:href=\"#DejaVuSans-32\"/>\r\n       <use x=\"360.351562\" xlink:href=\"#DejaVuSans-83\"/>\r\n       <use x=\"423.828125\" xlink:href=\"#DejaVuSans-116\"/>\r\n       <use x=\"463.037109\" xlink:href=\"#DejaVuSans-97\"/>\r\n       <use x=\"524.316406\" xlink:href=\"#DejaVuSans-116\"/>\r\n       <use x=\"563.525391\" xlink:href=\"#DejaVuSans-101\"/>\r\n       <use x=\"625.048828\" xlink:href=\"#DejaVuSans-115\"/>\r\n       <use x=\"677.148438\" xlink:href=\"#DejaVuSans-32\"/>\r\n       <use x=\"708.935547\" xlink:href=\"#DejaVuSans-111\"/>\r\n       <use x=\"770.117188\" xlink:href=\"#DejaVuSans-102\"/>\r\n       <use x=\"805.322266\" xlink:href=\"#DejaVuSans-32\"/>\r\n       <use x=\"837.109375\" xlink:href=\"#DejaVuSans-65\"/>\r\n       <use x=\"905.517578\" xlink:href=\"#DejaVuSans-109\"/>\r\n       <use x=\"1002.929688\" xlink:href=\"#DejaVuSans-101\"/>\r\n       <use x=\"1064.453125\" xlink:href=\"#DejaVuSans-114\"/>\r\n       <use x=\"1105.566406\" xlink:href=\"#DejaVuSans-105\"/>\r\n       <use x=\"1133.349609\" xlink:href=\"#DejaVuSans-99\"/>\r\n       <use x=\"1188.330078\" xlink:href=\"#DejaVuSans-97\"/>\r\n      </g>\r\n     </g>\r\n    </g>\r\n    <g id=\"xtick_2\">\r\n     <g id=\"line2d_2\">\r\n      <g>\r\n       <use style=\"stroke:#000000;stroke-width:0.8;\" x=\"98.667857\" xlink:href=\"#mfd787a1d47\" y=\"239.758125\"/>\r\n      </g>\r\n     </g>\r\n     <g id=\"text_2\">\r\n      <!-- Sweden -->\r\n      <defs>\r\n       <path d=\"M 4.203125 54.6875 \r\nL 13.1875 54.6875 \r\nL 24.421875 12.015625 \r\nL 35.59375 54.6875 \r\nL 46.1875 54.6875 \r\nL 57.421875 12.015625 \r\nL 68.609375 54.6875 \r\nL 77.59375 54.6875 \r\nL 63.28125 0 \r\nL 52.6875 0 \r\nL 40.921875 44.828125 \r\nL 29.109375 0 \r\nL 18.5 0 \r\nz\r\n\" id=\"DejaVuSans-119\"/>\r\n      </defs>\r\n      <g transform=\"translate(101.427232 286.276875)rotate(-90)scale(0.1 -0.1)\">\r\n       <use xlink:href=\"#DejaVuSans-83\"/>\r\n       <use x=\"63.476562\" xlink:href=\"#DejaVuSans-119\"/>\r\n       <use x=\"145.263672\" xlink:href=\"#DejaVuSans-101\"/>\r\n       <use x=\"206.787109\" xlink:href=\"#DejaVuSans-100\"/>\r\n       <use x=\"270.263672\" xlink:href=\"#DejaVuSans-101\"/>\r\n       <use x=\"331.787109\" xlink:href=\"#DejaVuSans-110\"/>\r\n      </g>\r\n     </g>\r\n    </g>\r\n    <g id=\"xtick_3\">\r\n     <g id=\"line2d_3\">\r\n      <g>\r\n       <use style=\"stroke:#000000;stroke-width:0.8;\" x=\"146.496429\" xlink:href=\"#mfd787a1d47\" y=\"239.758125\"/>\r\n      </g>\r\n     </g>\r\n     <g id=\"text_3\">\r\n      <!-- Australia -->\r\n      <defs>\r\n       <path d=\"M 8.5 21.578125 \r\nL 8.5 54.6875 \r\nL 17.484375 54.6875 \r\nL 17.484375 21.921875 \r\nQ 17.484375 14.15625 20.5 10.265625 \r\nQ 23.53125 6.390625 29.59375 6.390625 \r\nQ 36.859375 6.390625 41.078125 11.03125 \r\nQ 45.3125 15.671875 45.3125 23.6875 \r\nL 45.3125 54.6875 \r\nL 54.296875 54.6875 \r\nL 54.296875 0 \r\nL 45.3125 0 \r\nL 45.3125 8.40625 \r\nQ 42.046875 3.421875 37.71875 1 \r\nQ 33.40625 -1.421875 27.6875 -1.421875 \r\nQ 18.265625 -1.421875 13.375 4.4375 \r\nQ 8.5 10.296875 8.5 21.578125 \r\nz\r\nM 31.109375 56 \r\nz\r\n\" id=\"DejaVuSans-117\"/>\r\n       <path d=\"M 9.421875 75.984375 \r\nL 18.40625 75.984375 \r\nL 18.40625 0 \r\nL 9.421875 0 \r\nz\r\n\" id=\"DejaVuSans-108\"/>\r\n      </defs>\r\n      <g transform=\"translate(149.255804 290.989375)rotate(-90)scale(0.1 -0.1)\">\r\n       <use xlink:href=\"#DejaVuSans-65\"/>\r\n       <use x=\"68.408203\" xlink:href=\"#DejaVuSans-117\"/>\r\n       <use x=\"131.787109\" xlink:href=\"#DejaVuSans-115\"/>\r\n       <use x=\"183.886719\" xlink:href=\"#DejaVuSans-116\"/>\r\n       <use x=\"223.095703\" xlink:href=\"#DejaVuSans-114\"/>\r\n       <use x=\"264.208984\" xlink:href=\"#DejaVuSans-97\"/>\r\n       <use x=\"325.488281\" xlink:href=\"#DejaVuSans-108\"/>\r\n       <use x=\"353.271484\" xlink:href=\"#DejaVuSans-105\"/>\r\n       <use x=\"381.054688\" xlink:href=\"#DejaVuSans-97\"/>\r\n      </g>\r\n     </g>\r\n    </g>\r\n    <g id=\"xtick_4\">\r\n     <g id=\"line2d_4\">\r\n      <g>\r\n       <use style=\"stroke:#000000;stroke-width:0.8;\" x=\"194.325\" xlink:href=\"#mfd787a1d47\" y=\"239.758125\"/>\r\n      </g>\r\n     </g>\r\n     <g id=\"text_4\">\r\n      <!-- Ireland -->\r\n      <defs>\r\n       <path d=\"M 9.8125 72.90625 \r\nL 19.671875 72.90625 \r\nL 19.671875 0 \r\nL 9.8125 0 \r\nz\r\n\" id=\"DejaVuSans-73\"/>\r\n      </defs>\r\n      <g transform=\"translate(197.084375 281.56125)rotate(-90)scale(0.1 -0.1)\">\r\n       <use xlink:href=\"#DejaVuSans-73\"/>\r\n       <use x=\"29.492188\" xlink:href=\"#DejaVuSans-114\"/>\r\n       <use x=\"70.574219\" xlink:href=\"#DejaVuSans-101\"/>\r\n       <use x=\"132.097656\" xlink:href=\"#DejaVuSans-108\"/>\r\n       <use x=\"159.880859\" xlink:href=\"#DejaVuSans-97\"/>\r\n       <use x=\"221.160156\" xlink:href=\"#DejaVuSans-110\"/>\r\n       <use x=\"284.539062\" xlink:href=\"#DejaVuSans-100\"/>\r\n      </g>\r\n     </g>\r\n    </g>\r\n    <g id=\"xtick_5\">\r\n     <g id=\"line2d_5\">\r\n      <g>\r\n       <use style=\"stroke:#000000;stroke-width:0.8;\" x=\"242.153571\" xlink:href=\"#mfd787a1d47\" y=\"239.758125\"/>\r\n      </g>\r\n     </g>\r\n     <g id=\"text_5\">\r\n      <!-- Iceland -->\r\n      <g transform=\"translate(244.912946 282.951875)rotate(-90)scale(0.1 -0.1)\">\r\n       <use xlink:href=\"#DejaVuSans-73\"/>\r\n       <use x=\"29.492188\" xlink:href=\"#DejaVuSans-99\"/>\r\n       <use x=\"84.472656\" xlink:href=\"#DejaVuSans-101\"/>\r\n       <use x=\"145.996094\" xlink:href=\"#DejaVuSans-108\"/>\r\n       <use x=\"173.779297\" xlink:href=\"#DejaVuSans-97\"/>\r\n       <use x=\"235.058594\" xlink:href=\"#DejaVuSans-110\"/>\r\n       <use x=\"298.4375\" xlink:href=\"#DejaVuSans-100\"/>\r\n      </g>\r\n     </g>\r\n    </g>\r\n    <g id=\"xtick_6\">\r\n     <g id=\"line2d_6\">\r\n      <g>\r\n       <use style=\"stroke:#000000;stroke-width:0.8;\" x=\"289.982143\" xlink:href=\"#mfd787a1d47\" y=\"239.758125\"/>\r\n      </g>\r\n     </g>\r\n     <g id=\"text_6\">\r\n      <!-- Argentina -->\r\n      <defs>\r\n       <path d=\"M 45.40625 27.984375 \r\nQ 45.40625 37.75 41.375 43.109375 \r\nQ 37.359375 48.484375 30.078125 48.484375 \r\nQ 22.859375 48.484375 18.828125 43.109375 \r\nQ 14.796875 37.75 14.796875 27.984375 \r\nQ 14.796875 18.265625 18.828125 12.890625 \r\nQ 22.859375 7.515625 30.078125 7.515625 \r\nQ 37.359375 7.515625 41.375 12.890625 \r\nQ 45.40625 18.265625 45.40625 27.984375 \r\nz\r\nM 54.390625 6.78125 \r\nQ 54.390625 -7.171875 48.1875 -13.984375 \r\nQ 42 -20.796875 29.203125 -20.796875 \r\nQ 24.46875 -20.796875 20.265625 -20.09375 \r\nQ 16.0625 -19.390625 12.109375 -17.921875 \r\nL 12.109375 -9.1875 \r\nQ 16.0625 -11.328125 19.921875 -12.34375 \r\nQ 23.78125 -13.375 27.78125 -13.375 \r\nQ 36.625 -13.375 41.015625 -8.765625 \r\nQ 45.40625 -4.15625 45.40625 5.171875 \r\nL 45.40625 9.625 \r\nQ 42.625 4.78125 38.28125 2.390625 \r\nQ 33.9375 0 27.875 0 \r\nQ 17.828125 0 11.671875 7.65625 \r\nQ 5.515625 15.328125 5.515625 27.984375 \r\nQ 5.515625 40.671875 11.671875 48.328125 \r\nQ 17.828125 56 27.875 56 \r\nQ 33.9375 56 38.28125 53.609375 \r\nQ 42.625 51.21875 45.40625 46.390625 \r\nL 45.40625 54.6875 \r\nL 54.390625 54.6875 \r\nz\r\n\" id=\"DejaVuSans-103\"/>\r\n      </defs>\r\n      <g transform=\"translate(292.741518 295.71125)rotate(-90)scale(0.1 -0.1)\">\r\n       <use xlink:href=\"#DejaVuSans-65\"/>\r\n       <use x=\"68.408203\" xlink:href=\"#DejaVuSans-114\"/>\r\n       <use x=\"109.505859\" xlink:href=\"#DejaVuSans-103\"/>\r\n       <use x=\"172.982422\" xlink:href=\"#DejaVuSans-101\"/>\r\n       <use x=\"234.505859\" xlink:href=\"#DejaVuSans-110\"/>\r\n       <use x=\"297.884766\" xlink:href=\"#DejaVuSans-116\"/>\r\n       <use x=\"337.09375\" xlink:href=\"#DejaVuSans-105\"/>\r\n       <use x=\"364.876953\" xlink:href=\"#DejaVuSans-110\"/>\r\n       <use x=\"428.255859\" xlink:href=\"#DejaVuSans-97\"/>\r\n      </g>\r\n     </g>\r\n    </g>\r\n    <g id=\"xtick_7\">\r\n     <g id=\"line2d_7\">\r\n      <g>\r\n       <use style=\"stroke:#000000;stroke-width:0.8;\" x=\"337.810714\" xlink:href=\"#mfd787a1d47\" y=\"239.758125\"/>\r\n      </g>\r\n     </g>\r\n     <g id=\"text_7\">\r\n      <!-- Germany -->\r\n      <defs>\r\n       <path d=\"M 59.515625 10.40625 \r\nL 59.515625 29.984375 \r\nL 43.40625 29.984375 \r\nL 43.40625 38.09375 \r\nL 69.28125 38.09375 \r\nL 69.28125 6.78125 \r\nQ 63.578125 2.734375 56.6875 0.65625 \r\nQ 49.8125 -1.421875 42 -1.421875 \r\nQ 24.90625 -1.421875 15.25 8.5625 \r\nQ 5.609375 18.5625 5.609375 36.375 \r\nQ 5.609375 54.25 15.25 64.234375 \r\nQ 24.90625 74.21875 42 74.21875 \r\nQ 49.125 74.21875 55.546875 72.453125 \r\nQ 61.96875 70.703125 67.390625 67.28125 \r\nL 67.390625 56.78125 \r\nQ 61.921875 61.421875 55.765625 63.765625 \r\nQ 49.609375 66.109375 42.828125 66.109375 \r\nQ 29.4375 66.109375 22.71875 58.640625 \r\nQ 16.015625 51.171875 16.015625 36.375 \r\nQ 16.015625 21.625 22.71875 14.15625 \r\nQ 29.4375 6.6875 42.828125 6.6875 \r\nQ 48.046875 6.6875 52.140625 7.59375 \r\nQ 56.25 8.5 59.515625 10.40625 \r\nz\r\n\" id=\"DejaVuSans-71\"/>\r\n       <path d=\"M 32.171875 -5.078125 \r\nQ 28.375 -14.84375 24.75 -17.8125 \r\nQ 21.140625 -20.796875 15.09375 -20.796875 \r\nL 7.90625 -20.796875 \r\nL 7.90625 -13.28125 \r\nL 13.1875 -13.28125 \r\nQ 16.890625 -13.28125 18.9375 -11.515625 \r\nQ 21 -9.765625 23.484375 -3.21875 \r\nL 25.09375 0.875 \r\nL 2.984375 54.6875 \r\nL 12.5 54.6875 \r\nL 29.59375 11.921875 \r\nL 46.6875 54.6875 \r\nL 56.203125 54.6875 \r\nz\r\n\" id=\"DejaVuSans-121\"/>\r\n      </defs>\r\n      <g transform=\"translate(340.570089 292.894063)rotate(-90)scale(0.1 -0.1)\">\r\n       <use xlink:href=\"#DejaVuSans-71\"/>\r\n       <use x=\"77.490234\" xlink:href=\"#DejaVuSans-101\"/>\r\n       <use x=\"139.013672\" xlink:href=\"#DejaVuSans-114\"/>\r\n       <use x=\"180.111328\" xlink:href=\"#DejaVuSans-109\"/>\r\n       <use x=\"277.523438\" xlink:href=\"#DejaVuSans-97\"/>\r\n       <use x=\"338.802734\" xlink:href=\"#DejaVuSans-110\"/>\r\n       <use x=\"402.181641\" xlink:href=\"#DejaVuSans-121\"/>\r\n      </g>\r\n     </g>\r\n    </g>\r\n   </g>\r\n   <g id=\"matplotlib.axis_2\">\r\n    <g id=\"ytick_1\">\r\n     <g id=\"line2d_8\">\r\n      <defs>\r\n       <path d=\"M 0 0 \r\nL -3.5 0 \r\n\" id=\"m3759ebf865\" style=\"stroke:#000000;stroke-width:0.8;\"/>\r\n      </defs>\r\n      <g>\r\n       <use style=\"stroke:#000000;stroke-width:0.8;\" x=\"26.925\" xlink:href=\"#m3759ebf865\" y=\"239.758125\"/>\r\n      </g>\r\n     </g>\r\n     <g id=\"text_8\">\r\n      <!-- 0 -->\r\n      <defs>\r\n       <path d=\"M 31.78125 66.40625 \r\nQ 24.171875 66.40625 20.328125 58.90625 \r\nQ 16.5 51.421875 16.5 36.375 \r\nQ 16.5 21.390625 20.328125 13.890625 \r\nQ 24.171875 6.390625 31.78125 6.390625 \r\nQ 39.453125 6.390625 43.28125 13.890625 \r\nQ 47.125 21.390625 47.125 36.375 \r\nQ 47.125 51.421875 43.28125 58.90625 \r\nQ 39.453125 66.40625 31.78125 66.40625 \r\nz\r\nM 31.78125 74.21875 \r\nQ 44.046875 74.21875 50.515625 64.515625 \r\nQ 56.984375 54.828125 56.984375 36.375 \r\nQ 56.984375 17.96875 50.515625 8.265625 \r\nQ 44.046875 -1.421875 31.78125 -1.421875 \r\nQ 19.53125 -1.421875 13.0625 8.265625 \r\nQ 6.59375 17.96875 6.59375 36.375 \r\nQ 6.59375 54.828125 13.0625 64.515625 \r\nQ 19.53125 74.21875 31.78125 74.21875 \r\nz\r\n\" id=\"DejaVuSans-48\"/>\r\n      </defs>\r\n      <g transform=\"translate(13.5625 243.557344)scale(0.1 -0.1)\">\r\n       <use xlink:href=\"#DejaVuSans-48\"/>\r\n      </g>\r\n     </g>\r\n    </g>\r\n    <g id=\"ytick_2\">\r\n     <g id=\"line2d_9\">\r\n      <g>\r\n       <use style=\"stroke:#000000;stroke-width:0.8;\" x=\"26.925\" xlink:href=\"#m3759ebf865\" y=\"202.778533\"/>\r\n      </g>\r\n     </g>\r\n     <g id=\"text_9\">\r\n      <!-- 10 -->\r\n      <defs>\r\n       <path d=\"M 12.40625 8.296875 \r\nL 28.515625 8.296875 \r\nL 28.515625 63.921875 \r\nL 10.984375 60.40625 \r\nL 10.984375 69.390625 \r\nL 28.421875 72.90625 \r\nL 38.28125 72.90625 \r\nL 38.28125 8.296875 \r\nL 54.390625 8.296875 \r\nL 54.390625 0 \r\nL 12.40625 0 \r\nz\r\n\" id=\"DejaVuSans-49\"/>\r\n      </defs>\r\n      <g transform=\"translate(7.2 206.577752)scale(0.1 -0.1)\">\r\n       <use xlink:href=\"#DejaVuSans-49\"/>\r\n       <use x=\"63.623047\" xlink:href=\"#DejaVuSans-48\"/>\r\n      </g>\r\n     </g>\r\n    </g>\r\n    <g id=\"ytick_3\">\r\n     <g id=\"line2d_10\">\r\n      <g>\r\n       <use style=\"stroke:#000000;stroke-width:0.8;\" x=\"26.925\" xlink:href=\"#m3759ebf865\" y=\"165.798941\"/>\r\n      </g>\r\n     </g>\r\n     <g id=\"text_10\">\r\n      <!-- 20 -->\r\n      <defs>\r\n       <path d=\"M 19.1875 8.296875 \r\nL 53.609375 8.296875 \r\nL 53.609375 0 \r\nL 7.328125 0 \r\nL 7.328125 8.296875 \r\nQ 12.9375 14.109375 22.625 23.890625 \r\nQ 32.328125 33.6875 34.8125 36.53125 \r\nQ 39.546875 41.84375 41.421875 45.53125 \r\nQ 43.3125 49.21875 43.3125 52.78125 \r\nQ 43.3125 58.59375 39.234375 62.25 \r\nQ 35.15625 65.921875 28.609375 65.921875 \r\nQ 23.96875 65.921875 18.8125 64.3125 \r\nQ 13.671875 62.703125 7.8125 59.421875 \r\nL 7.8125 69.390625 \r\nQ 13.765625 71.78125 18.9375 73 \r\nQ 24.125 74.21875 28.421875 74.21875 \r\nQ 39.75 74.21875 46.484375 68.546875 \r\nQ 53.21875 62.890625 53.21875 53.421875 \r\nQ 53.21875 48.921875 51.53125 44.890625 \r\nQ 49.859375 40.875 45.40625 35.40625 \r\nQ 44.1875 33.984375 37.640625 27.21875 \r\nQ 31.109375 20.453125 19.1875 8.296875 \r\nz\r\n\" id=\"DejaVuSans-50\"/>\r\n      </defs>\r\n      <g transform=\"translate(7.2 169.59816)scale(0.1 -0.1)\">\r\n       <use xlink:href=\"#DejaVuSans-50\"/>\r\n       <use x=\"63.623047\" xlink:href=\"#DejaVuSans-48\"/>\r\n      </g>\r\n     </g>\r\n    </g>\r\n    <g id=\"ytick_4\">\r\n     <g id=\"line2d_11\">\r\n      <g>\r\n       <use style=\"stroke:#000000;stroke-width:0.8;\" x=\"26.925\" xlink:href=\"#m3759ebf865\" y=\"128.819349\"/>\r\n      </g>\r\n     </g>\r\n     <g id=\"text_11\">\r\n      <!-- 30 -->\r\n      <defs>\r\n       <path d=\"M 40.578125 39.3125 \r\nQ 47.65625 37.796875 51.625 33 \r\nQ 55.609375 28.21875 55.609375 21.1875 \r\nQ 55.609375 10.40625 48.1875 4.484375 \r\nQ 40.765625 -1.421875 27.09375 -1.421875 \r\nQ 22.515625 -1.421875 17.65625 -0.515625 \r\nQ 12.796875 0.390625 7.625 2.203125 \r\nL 7.625 11.71875 \r\nQ 11.71875 9.328125 16.59375 8.109375 \r\nQ 21.484375 6.890625 26.8125 6.890625 \r\nQ 36.078125 6.890625 40.9375 10.546875 \r\nQ 45.796875 14.203125 45.796875 21.1875 \r\nQ 45.796875 27.640625 41.28125 31.265625 \r\nQ 36.765625 34.90625 28.71875 34.90625 \r\nL 20.21875 34.90625 \r\nL 20.21875 43.015625 \r\nL 29.109375 43.015625 \r\nQ 36.375 43.015625 40.234375 45.921875 \r\nQ 44.09375 48.828125 44.09375 54.296875 \r\nQ 44.09375 59.90625 40.109375 62.90625 \r\nQ 36.140625 65.921875 28.71875 65.921875 \r\nQ 24.65625 65.921875 20.015625 65.03125 \r\nQ 15.375 64.15625 9.8125 62.3125 \r\nL 9.8125 71.09375 \r\nQ 15.4375 72.65625 20.34375 73.4375 \r\nQ 25.25 74.21875 29.59375 74.21875 \r\nQ 40.828125 74.21875 47.359375 69.109375 \r\nQ 53.90625 64.015625 53.90625 55.328125 \r\nQ 53.90625 49.265625 50.4375 45.09375 \r\nQ 46.96875 40.921875 40.578125 39.3125 \r\nz\r\n\" id=\"DejaVuSans-51\"/>\r\n      </defs>\r\n      <g transform=\"translate(7.2 132.618568)scale(0.1 -0.1)\">\r\n       <use xlink:href=\"#DejaVuSans-51\"/>\r\n       <use x=\"63.623047\" xlink:href=\"#DejaVuSans-48\"/>\r\n      </g>\r\n     </g>\r\n    </g>\r\n    <g id=\"ytick_5\">\r\n     <g id=\"line2d_12\">\r\n      <g>\r\n       <use style=\"stroke:#000000;stroke-width:0.8;\" x=\"26.925\" xlink:href=\"#m3759ebf865\" y=\"91.839758\"/>\r\n      </g>\r\n     </g>\r\n     <g id=\"text_12\">\r\n      <!-- 40 -->\r\n      <defs>\r\n       <path d=\"M 37.796875 64.3125 \r\nL 12.890625 25.390625 \r\nL 37.796875 25.390625 \r\nz\r\nM 35.203125 72.90625 \r\nL 47.609375 72.90625 \r\nL 47.609375 25.390625 \r\nL 58.015625 25.390625 \r\nL 58.015625 17.1875 \r\nL 47.609375 17.1875 \r\nL 47.609375 0 \r\nL 37.796875 0 \r\nL 37.796875 17.1875 \r\nL 4.890625 17.1875 \r\nL 4.890625 26.703125 \r\nz\r\n\" id=\"DejaVuSans-52\"/>\r\n      </defs>\r\n      <g transform=\"translate(7.2 95.638976)scale(0.1 -0.1)\">\r\n       <use xlink:href=\"#DejaVuSans-52\"/>\r\n       <use x=\"63.623047\" xlink:href=\"#DejaVuSans-48\"/>\r\n      </g>\r\n     </g>\r\n    </g>\r\n    <g id=\"ytick_6\">\r\n     <g id=\"line2d_13\">\r\n      <g>\r\n       <use style=\"stroke:#000000;stroke-width:0.8;\" x=\"26.925\" xlink:href=\"#m3759ebf865\" y=\"54.860166\"/>\r\n      </g>\r\n     </g>\r\n     <g id=\"text_13\">\r\n      <!-- 50 -->\r\n      <defs>\r\n       <path d=\"M 10.796875 72.90625 \r\nL 49.515625 72.90625 \r\nL 49.515625 64.59375 \r\nL 19.828125 64.59375 \r\nL 19.828125 46.734375 \r\nQ 21.96875 47.46875 24.109375 47.828125 \r\nQ 26.265625 48.1875 28.421875 48.1875 \r\nQ 40.625 48.1875 47.75 41.5 \r\nQ 54.890625 34.8125 54.890625 23.390625 \r\nQ 54.890625 11.625 47.5625 5.09375 \r\nQ 40.234375 -1.421875 26.90625 -1.421875 \r\nQ 22.3125 -1.421875 17.546875 -0.640625 \r\nQ 12.796875 0.140625 7.71875 1.703125 \r\nL 7.71875 11.625 \r\nQ 12.109375 9.234375 16.796875 8.0625 \r\nQ 21.484375 6.890625 26.703125 6.890625 \r\nQ 35.15625 6.890625 40.078125 11.328125 \r\nQ 45.015625 15.765625 45.015625 23.390625 \r\nQ 45.015625 31 40.078125 35.4375 \r\nQ 35.15625 39.890625 26.703125 39.890625 \r\nQ 22.75 39.890625 18.8125 39.015625 \r\nQ 14.890625 38.140625 10.796875 36.28125 \r\nz\r\n\" id=\"DejaVuSans-53\"/>\r\n      </defs>\r\n      <g transform=\"translate(7.2 58.659385)scale(0.1 -0.1)\">\r\n       <use xlink:href=\"#DejaVuSans-53\"/>\r\n       <use x=\"63.623047\" xlink:href=\"#DejaVuSans-48\"/>\r\n      </g>\r\n     </g>\r\n    </g>\r\n   </g>\r\n   <g id=\"patch_10\">\r\n    <path d=\"M 26.925 239.758125 \r\nL 26.925 22.318125 \r\n\" style=\"fill:none;stroke:#000000;stroke-linecap:square;stroke-linejoin:miter;stroke-width:0.8;\"/>\r\n   </g>\r\n   <g id=\"patch_11\">\r\n    <path d=\"M 361.725 239.758125 \r\nL 361.725 22.318125 \r\n\" style=\"fill:none;stroke:#000000;stroke-linecap:square;stroke-linejoin:miter;stroke-width:0.8;\"/>\r\n   </g>\r\n   <g id=\"patch_12\">\r\n    <path d=\"M 26.925 239.758125 \r\nL 361.725 239.758125 \r\n\" style=\"fill:none;stroke:#000000;stroke-linecap:square;stroke-linejoin:miter;stroke-width:0.8;\"/>\r\n   </g>\r\n   <g id=\"patch_13\">\r\n    <path d=\"M 26.925 22.318125 \r\nL 361.725 22.318125 \r\n\" style=\"fill:none;stroke:#000000;stroke-linecap:square;stroke-linejoin:miter;stroke-width:0.8;\"/>\r\n   </g>\r\n   <g id=\"text_14\">\r\n    <!-- Count for values in Area -->\r\n    <defs>\r\n     <path d=\"M 64.40625 67.28125 \r\nL 64.40625 56.890625 \r\nQ 59.421875 61.53125 53.78125 63.8125 \r\nQ 48.140625 66.109375 41.796875 66.109375 \r\nQ 29.296875 66.109375 22.65625 58.46875 \r\nQ 16.015625 50.828125 16.015625 36.375 \r\nQ 16.015625 21.96875 22.65625 14.328125 \r\nQ 29.296875 6.6875 41.796875 6.6875 \r\nQ 48.140625 6.6875 53.78125 8.984375 \r\nQ 59.421875 11.28125 64.40625 15.921875 \r\nL 64.40625 5.609375 \r\nQ 59.234375 2.09375 53.4375 0.328125 \r\nQ 47.65625 -1.421875 41.21875 -1.421875 \r\nQ 24.65625 -1.421875 15.125 8.703125 \r\nQ 5.609375 18.84375 5.609375 36.375 \r\nQ 5.609375 53.953125 15.125 64.078125 \r\nQ 24.65625 74.21875 41.21875 74.21875 \r\nQ 47.75 74.21875 53.53125 72.484375 \r\nQ 59.328125 70.75 64.40625 67.28125 \r\nz\r\n\" id=\"DejaVuSans-67\"/>\r\n     <path d=\"M 2.984375 54.6875 \r\nL 12.5 54.6875 \r\nL 29.59375 8.796875 \r\nL 46.6875 54.6875 \r\nL 56.203125 54.6875 \r\nL 35.6875 0 \r\nL 23.484375 0 \r\nz\r\n\" id=\"DejaVuSans-118\"/>\r\n    </defs>\r\n    <g transform=\"translate(121.707188 16.318125)scale(0.12 -0.12)\">\r\n     <use xlink:href=\"#DejaVuSans-67\"/>\r\n     <use x=\"69.824219\" xlink:href=\"#DejaVuSans-111\"/>\r\n     <use x=\"131.005859\" xlink:href=\"#DejaVuSans-117\"/>\r\n     <use x=\"194.384766\" xlink:href=\"#DejaVuSans-110\"/>\r\n     <use x=\"257.763672\" xlink:href=\"#DejaVuSans-116\"/>\r\n     <use x=\"296.972656\" xlink:href=\"#DejaVuSans-32\"/>\r\n     <use x=\"328.759766\" xlink:href=\"#DejaVuSans-102\"/>\r\n     <use x=\"363.964844\" xlink:href=\"#DejaVuSans-111\"/>\r\n     <use x=\"425.146484\" xlink:href=\"#DejaVuSans-114\"/>\r\n     <use x=\"466.259766\" xlink:href=\"#DejaVuSans-32\"/>\r\n     <use x=\"498.046875\" xlink:href=\"#DejaVuSans-118\"/>\r\n     <use x=\"557.226562\" xlink:href=\"#DejaVuSans-97\"/>\r\n     <use x=\"618.505859\" xlink:href=\"#DejaVuSans-108\"/>\r\n     <use x=\"646.289062\" xlink:href=\"#DejaVuSans-117\"/>\r\n     <use x=\"709.667969\" xlink:href=\"#DejaVuSans-101\"/>\r\n     <use x=\"771.191406\" xlink:href=\"#DejaVuSans-115\"/>\r\n     <use x=\"823.291016\" xlink:href=\"#DejaVuSans-32\"/>\r\n     <use x=\"855.078125\" xlink:href=\"#DejaVuSans-105\"/>\r\n     <use x=\"882.861328\" xlink:href=\"#DejaVuSans-110\"/>\r\n     <use x=\"946.240234\" xlink:href=\"#DejaVuSans-32\"/>\r\n     <use x=\"978.027344\" xlink:href=\"#DejaVuSans-65\"/>\r\n     <use x=\"1046.435547\" xlink:href=\"#DejaVuSans-114\"/>\r\n     <use x=\"1087.517578\" xlink:href=\"#DejaVuSans-101\"/>\r\n     <use x=\"1149.041016\" xlink:href=\"#DejaVuSans-97\"/>\r\n    </g>\r\n   </g>\r\n  </g>\r\n </g>\r\n <defs>\r\n  <clipPath id=\"p0c38b3a308\">\r\n   <rect height=\"217.44\" width=\"334.8\" x=\"26.925\" y=\"22.318125\"/>\r\n  </clipPath>\r\n </defs>\r\n</svg>\r\n",
      "text/plain": "<Figure size 432x288 with 1 Axes>"
     },
     "metadata": {
      "needs_background": "light"
     },
     "output_type": "display_data"
    }
   ],
   "source": [
    "# your code here\n",
    "df1['Area'].value_counts().plot(kind='bar', title='Count for values in Area')"
   ]
  },
  {
   "cell_type": "markdown",
   "metadata": {},
   "source": [
    "## Extract specific statistics from the preprocessed data:\n",
    "\n",
    "#### 4.1)  Create a dataframe 'dftemp' to store rows where Area is 'Iceland'. Display the dataframe."
   ]
  },
  {
   "cell_type": "code",
   "execution_count": 52,
   "metadata": {},
   "outputs": [
    {
     "name": "stdout",
     "output_type": "stream",
     "text": "Area                  Variable Name       Year         Value\n166  Iceland      Total area of the country 1962-01-01  1.030000e+04\n167  Iceland      Total area of the country 1967-01-01  1.030000e+04\n168  Iceland      Total area of the country 1972-01-01  1.030000e+04\n169  Iceland      Total area of the country 1977-01-01  1.030000e+04\n170  Iceland      Total area of the country 1982-01-01  1.030000e+04\n171  Iceland      Total area of the country 1987-01-01  1.030000e+04\n172  Iceland      Total area of the country 1992-01-01  1.030000e+04\n173  Iceland      Total area of the country 1997-01-01  1.030000e+04\n174  Iceland      Total area of the country 2002-01-01  1.030000e+04\n175  Iceland      Total area of the country 2007-01-01  1.030000e+04\n176  Iceland      Total area of the country 2012-01-01  1.030000e+04\n177  Iceland      Total area of the country 2014-01-01  1.030000e+04\n178  Iceland               Total population 1962-01-01  1.826000e+02\n179  Iceland               Total population 1967-01-01  1.974000e+02\n180  Iceland               Total population 1972-01-01  2.099000e+02\n181  Iceland               Total population 1977-01-01  2.221000e+02\n182  Iceland               Total population 1982-01-01  2.331000e+02\n183  Iceland               Total population 1987-01-01  2.469000e+02\n184  Iceland               Total population 1992-01-01  2.599000e+02\n185  Iceland               Total population 1997-01-01  2.728000e+02\n186  Iceland               Total population 2002-01-01  2.869000e+02\n187  Iceland               Total population 2007-01-01  3.054000e+02\n188  Iceland               Total population 2012-01-01  3.234000e+02\n189  Iceland               Total population 2015-01-01  3.294000e+02\n190  Iceland             Population density 1962-01-01  1.773000e+00\n191  Iceland             Population density 1967-01-01  1.917000e+00\n192  Iceland             Population density 1972-01-01  2.038000e+00\n193  Iceland             Population density 1977-01-01  2.156000e+00\n194  Iceland             Population density 1982-01-01  2.263000e+00\n195  Iceland             Population density 1987-01-01  2.397000e+00\n196  Iceland             Population density 1992-01-01  2.523000e+00\n197  Iceland             Population density 1997-01-01  2.649000e+00\n198  Iceland             Population density 2002-01-01  2.785000e+00\n199  Iceland             Population density 2007-01-01  2.965000e+00\n200  Iceland             Population density 2012-01-01  3.140000e+00\n201  Iceland             Population density 2015-01-01  3.198000e+00\n202  Iceland   Gross Domestic Product (GDP) 1962-01-01  2.849165e+08\n203  Iceland   Gross Domestic Product (GDP) 1967-01-01  6.212260e+08\n204  Iceland   Gross Domestic Product (GDP) 1972-01-01  8.465069e+08\n205  Iceland   Gross Domestic Product (GDP) 1977-01-01  2.226539e+09\n206  Iceland   Gross Domestic Product (GDP) 1982-01-01  3.232804e+09\n207  Iceland   Gross Domestic Product (GDP) 1987-01-01  5.565384e+09\n208  Iceland   Gross Domestic Product (GDP) 1992-01-01  7.138788e+09\n209  Iceland   Gross Domestic Product (GDP) 1997-01-01  7.596126e+09\n210  Iceland   Gross Domestic Product (GDP) 2002-01-01  9.161798e+09\n211  Iceland   Gross Domestic Product (GDP) 2007-01-01  2.129384e+10\n212  Iceland   Gross Domestic Product (GDP) 2012-01-01  1.419452e+10\n213  Iceland   Gross Domestic Product (GDP) 2015-01-01  1.659849e+10\n214  Iceland  National Rainfall Index (NRI) 1967-01-01  8.160000e+02\n215  Iceland  National Rainfall Index (NRI) 1971-01-01  9.632000e+02\n216  Iceland  National Rainfall Index (NRI) 1975-01-01  1.010000e+03\n217  Iceland  National Rainfall Index (NRI) 1981-01-01  9.326000e+02\n218  Iceland  National Rainfall Index (NRI) 1986-01-01  9.685000e+02\n219  Iceland  National Rainfall Index (NRI) 1991-01-01  1.095000e+03\n220  Iceland  National Rainfall Index (NRI) 1997-01-01  9.932000e+02\n221  Iceland  National Rainfall Index (NRI) 1998-01-01  9.234000e+02\n"
    }
   ],
   "source": [
    "# your code here\n",
    "dftemp = df1.loc[df1['Area']=='Iceland',:]\n",
    "print(dftemp)"
   ]
  },
  {
   "cell_type": "markdown",
   "metadata": {},
   "source": [
    "#### 4.2) Print the years (with the same format as 2.5) when the National Rainfall Index (NRI) was greater than 900 and less than 950 in Iceland. Use the dataframe you created in the previous question 'dftemp'. "
   ]
  },
  {
   "cell_type": "code",
   "execution_count": 53,
   "metadata": {},
   "outputs": [
    {
     "name": "stdout",
     "output_type": "stream",
     "text": "217    1981\n221    1998\nName: Year, dtype: int64\n"
    }
   ],
   "source": [
    "# your code here\n",
    "print(dftemp.loc[(dftemp['Variable Name']=='National Rainfall Index (NRI)')&(dftemp['Value']>=900)&(dftemp['Value']<=950),'Year'].apply(lambda x: x.year))"
   ]
  },
  {
   "cell_type": "markdown",
   "metadata": {},
   "source": [
    "## US statistics: "
   ]
  },
  {
   "cell_type": "markdown",
   "metadata": {},
   "source": [
    "#### 5.1) Create a new DataFrame called **`df_usa`** that only contains values where 'Area' is equal to 'United States of America'. Set the indices to be the 'Year' column   (Use .set_index( ), set inplace=True ). Display the dataframe head."
   ]
  },
  {
   "cell_type": "code",
   "execution_count": 58,
   "metadata": {},
   "outputs": [
    {
     "data": {
      "text/html": "<div>\n<style scoped>\n    .dataframe tbody tr th:only-of-type {\n        vertical-align: middle;\n    }\n\n    .dataframe tbody tr th {\n        vertical-align: top;\n    }\n\n    .dataframe thead th {\n        text-align: right;\n    }\n</style>\n<table border=\"1\" class=\"dataframe\">\n  <thead>\n    <tr style=\"text-align: right;\">\n      <th></th>\n      <th>Area</th>\n      <th>Variable Name</th>\n      <th>Value</th>\n    </tr>\n    <tr>\n      <th>Year</th>\n      <th></th>\n      <th></th>\n      <th></th>\n    </tr>\n  </thead>\n  <tbody>\n    <tr>\n      <th>1962-01-01</th>\n      <td>United States of America</td>\n      <td>Total area of the country</td>\n      <td>962909.0</td>\n    </tr>\n    <tr>\n      <th>1967-01-01</th>\n      <td>United States of America</td>\n      <td>Total area of the country</td>\n      <td>962909.0</td>\n    </tr>\n    <tr>\n      <th>1972-01-01</th>\n      <td>United States of America</td>\n      <td>Total area of the country</td>\n      <td>962909.0</td>\n    </tr>\n    <tr>\n      <th>1977-01-01</th>\n      <td>United States of America</td>\n      <td>Total area of the country</td>\n      <td>962909.0</td>\n    </tr>\n    <tr>\n      <th>1982-01-01</th>\n      <td>United States of America</td>\n      <td>Total area of the country</td>\n      <td>962909.0</td>\n    </tr>\n  </tbody>\n</table>\n</div>",
      "text/plain": "                                Area              Variable Name     Value\nYear                                                                     \n1962-01-01  United States of America  Total area of the country  962909.0\n1967-01-01  United States of America  Total area of the country  962909.0\n1972-01-01  United States of America  Total area of the country  962909.0\n1977-01-01  United States of America  Total area of the country  962909.0\n1982-01-01  United States of America  Total area of the country  962909.0"
     },
     "execution_count": 58,
     "metadata": {},
     "output_type": "execute_result"
    }
   ],
   "source": [
    "# your code here\n",
    "df_usa = df1.loc[df1['Area']=='United States of America',:]\n",
    "df_usa.set_index('Year', inplace=True)\n",
    "print(df_usa.head())"
   ]
  },
  {
   "cell_type": "markdown",
   "metadata": {},
   "source": [
    "#### 5.2) Pivot the DataFrame so that the unique values in the column 'Variable Name' becomes the columns. The DataFrame values should be the ones in the the 'Value' column. Save it in df_usa. Display the dataframe head."
   ]
  },
  {
   "cell_type": "code",
   "execution_count": 59,
   "metadata": {},
   "outputs": [
    {
     "name": "stdout",
     "output_type": "stream",
     "text": "Variable Name  Gross Domestic Product (GDP)  National Rainfall Index (NRI)  \\\nYear                                                                         \n1962-01-01                     6.050000e+11                            NaN   \n1965-01-01                              NaN                          928.5   \n1967-01-01                     8.620000e+11                            NaN   \n1969-01-01                              NaN                          952.2   \n1972-01-01                     1.280000e+12                            NaN   \n\nVariable Name  Population density  Total area of the country  Total population  \nYear                                                                            \n1962-01-01                  19.93                   962909.0          191861.0  \n1965-01-01                    NaN                        NaN               NaN  \n1967-01-01                  21.16                   962909.0          203713.0  \n1969-01-01                    NaN                        NaN               NaN  \n1972-01-01                  22.14                   962909.0          213220.0  \n"
    }
   ],
   "source": [
    "# your code here\n",
    "df_usa = df_usa.pivot(columns='Variable Name', values='Value')\n",
    "print(df_usa.head())"
   ]
  },
  {
   "cell_type": "markdown",
   "metadata": {},
   "source": [
    "#### 5.3) Rename new columns to  ['GDP','NRI','PD','Area','Population'] and display the head."
   ]
  },
  {
   "cell_type": "code",
   "execution_count": 60,
   "metadata": {},
   "outputs": [
    {
     "name": "stdout",
     "output_type": "stream",
     "text": "Variable Name           GDP    NRI     PD      Area  Population\nYear                                                           \n1962-01-01     6.050000e+11    NaN  19.93  962909.0    191861.0\n1965-01-01              NaN  928.5    NaN       NaN         NaN\n1967-01-01     8.620000e+11    NaN  21.16  962909.0    203713.0\n1969-01-01              NaN  952.2    NaN       NaN         NaN\n1972-01-01     1.280000e+12    NaN  22.14  962909.0    213220.0\n"
    }
   ],
   "source": [
    "# your code here\n",
    "df_usa = df_usa.rename(columns = {'Gross Domestic Product (GDP)':'GDP', 'National Rainfall Index (NRI)':'NRI', 'Population density':'PD', 'Total area of the country':'Area', 'Total population':'Population'})\n",
    "print(df_usa.head())"
   ]
  },
  {
   "cell_type": "markdown",
   "metadata": {},
   "source": [
    "#### 5.4) Replace all 'Nan' values in df_usa with 0. Display the head of the dataframe."
   ]
  },
  {
   "cell_type": "code",
   "execution_count": 62,
   "metadata": {},
   "outputs": [
    {
     "data": {
      "text/html": "<div>\n<style scoped>\n    .dataframe tbody tr th:only-of-type {\n        vertical-align: middle;\n    }\n\n    .dataframe tbody tr th {\n        vertical-align: top;\n    }\n\n    .dataframe thead th {\n        text-align: right;\n    }\n</style>\n<table border=\"1\" class=\"dataframe\">\n  <thead>\n    <tr style=\"text-align: right;\">\n      <th>Variable Name</th>\n      <th>GDP</th>\n      <th>NRI</th>\n      <th>PD</th>\n      <th>Area</th>\n      <th>Population</th>\n    </tr>\n    <tr>\n      <th>Year</th>\n      <th></th>\n      <th></th>\n      <th></th>\n      <th></th>\n      <th></th>\n    </tr>\n  </thead>\n  <tbody>\n    <tr>\n      <th>1962-01-01</th>\n      <td>6.050000e+11</td>\n      <td>0.0</td>\n      <td>19.93</td>\n      <td>962909.0</td>\n      <td>191861.0</td>\n    </tr>\n    <tr>\n      <th>1965-01-01</th>\n      <td>0.000000e+00</td>\n      <td>928.5</td>\n      <td>0.00</td>\n      <td>0.0</td>\n      <td>0.0</td>\n    </tr>\n    <tr>\n      <th>1967-01-01</th>\n      <td>8.620000e+11</td>\n      <td>0.0</td>\n      <td>21.16</td>\n      <td>962909.0</td>\n      <td>203713.0</td>\n    </tr>\n    <tr>\n      <th>1969-01-01</th>\n      <td>0.000000e+00</td>\n      <td>952.2</td>\n      <td>0.00</td>\n      <td>0.0</td>\n      <td>0.0</td>\n    </tr>\n    <tr>\n      <th>1972-01-01</th>\n      <td>1.280000e+12</td>\n      <td>0.0</td>\n      <td>22.14</td>\n      <td>962909.0</td>\n      <td>213220.0</td>\n    </tr>\n  </tbody>\n</table>\n</div>",
      "text/plain": "Variable Name           GDP    NRI     PD      Area  Population\nYear                                                           \n1962-01-01     6.050000e+11    0.0  19.93  962909.0    191861.0\n1965-01-01     0.000000e+00  928.5   0.00       0.0         0.0\n1967-01-01     8.620000e+11    0.0  21.16  962909.0    203713.0\n1969-01-01     0.000000e+00  952.2   0.00       0.0         0.0\n1972-01-01     1.280000e+12    0.0  22.14  962909.0    213220.0"
     },
     "execution_count": 62,
     "metadata": {},
     "output_type": "execute_result"
    }
   ],
   "source": [
    "# your code here\n",
    "df_usa.fillna(0, inplace=True)\n",
    "df_usa.head()"
   ]
  },
  {
   "cell_type": "markdown",
   "metadata": {},
   "source": [
    "## Use df_usa:\n",
    "\n",
    "#### 6.1) Multiply the 'Area' column for all rows by 10 (so instead of 1000 ha, the unit becomes 100 ha = 1km^2). Display the dataframe head."
   ]
  },
  {
   "cell_type": "code",
   "execution_count": 63,
   "metadata": {},
   "outputs": [
    {
     "name": "stdout",
     "output_type": "stream",
     "text": "Variable Name           GDP    NRI     PD       Area  Population\nYear                                                            \n1962-01-01     6.050000e+11    0.0  19.93  9629090.0    191861.0\n1965-01-01     0.000000e+00  928.5   0.00        0.0         0.0\n1967-01-01     8.620000e+11    0.0  21.16  9629090.0    203713.0\n1969-01-01     0.000000e+00  952.2   0.00        0.0         0.0\n1972-01-01     1.280000e+12    0.0  22.14  9629090.0    213220.0\n"
    }
   ],
   "source": [
    "# your code here\n",
    "df_usa.loc[:,'Area'] = df_usa.loc[:,'Area']*10\n",
    "print(df_usa.head())"
   ]
  },
  {
   "cell_type": "markdown",
   "metadata": {},
   "source": [
    "#### 6.2) Create a new column in df_usa called 'GDP/capita' and populate it with the calculated GDP per capita. Round the results to two decimal points. Display the dataframe head.\n",
    "GDP per capita = (GDP / Population) * 1000"
   ]
  },
  {
   "cell_type": "code",
   "execution_count": 70,
   "metadata": {},
   "outputs": [
    {
     "name": "stdout",
     "output_type": "stream",
     "text": "Variable Name           GDP    NRI     PD       Area  Population    GDP/capita\nYear                                                                          \n1962-01-01     6.050000e+11    0.0  19.93  9629090.0    191861.0  3.153325e+09\n1965-01-01     0.000000e+00  928.5   0.00        0.0         0.0           NaN\n1967-01-01     8.620000e+11    0.0  21.16  9629090.0    203713.0  4.231443e+09\n1969-01-01     0.000000e+00  952.2   0.00        0.0         0.0           NaN\n1972-01-01     1.280000e+12    0.0  22.14  9629090.0    213220.0  6.003189e+09\n"
    }
   ],
   "source": [
    "# your code here\n",
    "df_usa['GDP/capita'] = df_usa['GDP']/df_usa['Population']*1000\n",
    "df_usa['GDP/capita'].round(decimals=2)\n",
    "print(df_usa.head())"
   ]
  },
  {
   "cell_type": "markdown",
   "metadata": {},
   "source": [
    "#### 6.3) Find the maximum value of the 'NRI' column in the US (using pandas methods). What year does the max value occur? Display the values."
   ]
  },
  {
   "cell_type": "code",
   "execution_count": 82,
   "metadata": {},
   "outputs": [
    {
     "name": "stdout",
     "output_type": "stream",
     "text": "Year\n1992-01-01    1020.0\nName: NRI, dtype: float64\n1020.0\n"
    }
   ],
   "source": [
    "# your code here\n",
    "print(df_usa.loc[df_usa['NRI']==df_usa['NRI'].max(),'NRI'])\n",
    "print(df_usa['NRI'].max())"
   ]
  },
  {
   "cell_type": "markdown",
   "metadata": {},
   "source": [
    "## Congratulations on completing hw4! Don't forget to click Kernel -> Restart & Run All, save your file, download or print as pdf, and submit pdf to Gradescope."
   ]
  }
 ],
 "metadata": {
  "anaconda-cloud": {},
  "kernelspec": {
   "display_name": "Python 3.7.6 64-bit ('DataX': conda)",
   "language": "python",
   "name": "python37664bitdataxcondadc7c2b614581426fafc69d312a3bbbce"
  },
  "language_info": {
   "codemirror_mode": {
    "name": "ipython",
    "version": 3
   },
   "file_extension": ".py",
   "mimetype": "text/x-python",
   "name": "python",
   "nbconvert_exporter": "python",
   "pygments_lexer": "ipython3",
   "version": "3.7.6-final"
  }
 },
 "nbformat": 4,
 "nbformat_minor": 1
}