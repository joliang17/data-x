{
 "cells": [
  {
   "cell_type": "markdown",
   "metadata": {},
   "source": [
    "# Homework 3 - NumPy"
   ]
  },
  {
   "cell_type": "markdown",
   "metadata": {},
   "source": [
    "### NAME: Yijun Liang\n",
    "### STUDENT ID: 3033099994"
   ]
  },
  {
   "cell_type": "code",
   "execution_count": 1,
   "metadata": {},
   "outputs": [],
   "source": [
    "# Do not delete this cell.\n",
    "import numpy as np"
   ]
  },
  {
   "cell_type": "markdown",
   "metadata": {},
   "source": [
    "### Since we will run autograder on your notebook, for each question please do not reuse variable names that have been used in previous questions."
   ]
  },
  {
   "cell_type": "markdown",
   "metadata": {},
   "source": [
    "## NumPy Introduction\n",
    "\n",
    "__1a) Create two numpy arrays called a and b where a should be all integers between 25-34 (inclusive), and b should be ten evenly spaced numbers between 1-6 (inclusive). Print a and b.__"
   ]
  },
  {
   "cell_type": "code",
   "execution_count": 10,
   "metadata": {},
   "outputs": [
    {
     "name": "stdout",
     "output_type": "stream",
     "text": "a:  [25 26 27 28 29 30 31 32 33 34]\nb:  [0.         0.66666667 1.33333333 2.         2.66666667 3.33333333\n 4.         4.66666667 5.33333333 6.        ]\n"
    }
   ],
   "source": [
    "a = np.arange(25, 35)\n",
    "b = np.linspace(0,6,10)\n",
    "print('a: ', a)\n",
    "print('b: ', b)"
   ]
  },
  {
   "cell_type": "markdown",
   "metadata": {},
   "source": [
    "__1b) Cube (i.e. raise to the power of 3) all the elements in both a and b (element-wise). Store the results in two new arrays called cubed_a and cubed_b. Print cubed_a and cubed_b.__"
   ]
  },
  {
   "cell_type": "code",
   "execution_count": 11,
   "metadata": {},
   "outputs": [
    {
     "name": "stdout",
     "output_type": "stream",
     "text": "cubed_a:  [15625 17576 19683 21952 24389 27000 29791 32768 35937 39304]\ncubed_b:  [  0.           0.2962963    2.37037037   8.          18.96296296\n  37.03703704  64.         101.62962963 151.7037037  216.        ]\n"
    }
   ],
   "source": [
    "cubed_a = np.power(a, 3)\n",
    "cubed_b = np.power(b, 3)\n",
    "print('cubed_a: ', cubed_a)\n",
    "print('cubed_b: ', cubed_b)"
   ]
  },
  {
   "cell_type": "markdown",
   "metadata": {},
   "source": [
    "__1c) Add the two cubed arrays (e.g., [1,2] + [3,4] = [4,6]) and store the result in an array called c. Print c.__"
   ]
  },
  {
   "cell_type": "code",
   "execution_count": 12,
   "metadata": {},
   "outputs": [
    {
     "name": "stdout",
     "output_type": "stream",
     "text": "c:  [15625.         17576.2962963  19685.37037037 21960.\n 24407.96296296 27037.03703704 29855.         32869.62962963\n 36088.7037037  39520.        ]\n"
    }
   ],
   "source": [
    "c = np.add(cubed_a, cubed_b)\n",
    "print('c: ', c)"
   ]
  },
  {
   "cell_type": "markdown",
   "metadata": {},
   "source": [
    "__1d) Sum the elements with even indices of c and store the result in a variable called d. Print d.__"
   ]
  },
  {
   "cell_type": "code",
   "execution_count": 15,
   "metadata": {},
   "outputs": [
    {
     "name": "stdout",
     "output_type": "stream",
     "text": "d:  138962.96296296295\n"
    }
   ],
   "source": [
    "d = np.sum(c[1::2])\n",
    "print('d: ', d)"
   ]
  },
  {
   "cell_type": "markdown",
   "metadata": {},
   "source": [
    "__1e) Take the element-wise square root of the c and store the result in an array called e. Print e.__"
   ]
  },
  {
   "cell_type": "code",
   "execution_count": 16,
   "metadata": {},
   "outputs": [
    {
     "name": "stdout",
     "output_type": "stream",
     "text": "e:  [125.         132.57562482 140.3045629  148.18906842 156.23048026\n 164.42942874 172.7859948  181.29983351 189.97027058 198.79637824]\n"
    }
   ],
   "source": [
    "e = np.power(c, 0.5)\n",
    "print('e: ', e)"
   ]
  },
  {
   "cell_type": "markdown",
   "metadata": {},
   "source": [
    "__1f) Append b to a, reshape the appended array so that it is a 4x5, 2d array and store the results in a variable called m. Print m.__\n"
   ]
  },
  {
   "cell_type": "code",
   "execution_count": 20,
   "metadata": {},
   "outputs": [
    {
     "name": "stdout",
     "output_type": "stream",
     "text": "m:  [[25.         26.         27.         28.         29.        ]\n [30.         31.         32.         33.         34.        ]\n [ 0.          0.66666667  1.33333333  2.          2.66666667]\n [ 3.33333333  4.          4.66666667  5.33333333  6.        ]]\n"
    }
   ],
   "source": [
    "m = np.hstack([a, b]).reshape(4, 5)\n",
    "print('m: ', m)"
   ]
  },
  {
   "cell_type": "markdown",
   "metadata": {},
   "source": [
    "__1g) Extract the third and the fourth column of the m matrix. Store the resulting 4x2 matrix in a new variable called m2. Print m2.__\n"
   ]
  },
  {
   "cell_type": "code",
   "execution_count": 23,
   "metadata": {},
   "outputs": [
    {
     "name": "stdout",
     "output_type": "stream",
     "text": "m2:  [[27.         28.        ]\n [32.         33.        ]\n [ 1.33333333  2.        ]\n [ 4.66666667  5.33333333]]\n"
    }
   ],
   "source": [
    "m2 = m[:,2:4]\n",
    "print('m2: ', m2)"
   ]
  },
  {
   "cell_type": "markdown",
   "metadata": {},
   "source": [
    "__1h) Take the dot product of m2 and m. Store the results in a matrix called m3. Print m3.\n",
    "Note that Dot product of two matrices A$\\cdot$B =A<sup>T</sup>B__"
   ]
  },
  {
   "cell_type": "code",
   "execution_count": 25,
   "metadata": {},
   "outputs": [
    {
     "name": "stdout",
     "output_type": "stream",
     "text": "m3:  [[1650.55555556 1713.55555556 1776.55555556 1839.55555556 1902.55555556]\n [1707.77777778 1773.66666667 1839.55555556 1905.44444444 1971.33333333]]\n"
    }
   ],
   "source": [
    "m3 = np.dot(np.transpose(m2), m)\n",
    "print('m3: ', m3)"
   ]
  },
  {
   "cell_type": "markdown",
   "metadata": {},
   "source": [
    "__1i) Round the m3 matrix to three decimal points. Store the result in m4. Print m4.__\n"
   ]
  },
  {
   "cell_type": "code",
   "execution_count": 27,
   "metadata": {},
   "outputs": [
    {
     "name": "stdout",
     "output_type": "stream",
     "text": "m4:  [[1650.556 1713.556 1776.556 1839.556 1902.556]\n [1707.778 1773.667 1839.556 1905.444 1971.333]]\n"
    }
   ],
   "source": [
    "m4 = np.around(m3, decimals=3)\n",
    "print('m4: ', m4)"
   ]
  },
  {
   "cell_type": "markdown",
   "metadata": {},
   "source": [
    "## NumPy and Masks\n",
    "__2a) Create an array called f where the values are cosine(x) for x from 0 to pi with 50 equally spaced values (inclusive). Print f.__"
   ]
  },
  {
   "cell_type": "code",
   "execution_count": 28,
   "metadata": {},
   "outputs": [
    {
     "name": "stdout",
     "output_type": "stream",
     "text": "f:  [ 0.54030231  0.50302074  0.46477845  0.42564848  0.38570556  0.34502598\n  0.30368743  0.26176886  0.21935034  0.17651288  0.1333383   0.08990905\n  0.04630809  0.00261868 -0.04107573 -0.08469169 -0.12814589 -0.17135535\n -0.21423754 -0.25671055 -0.29869327 -0.34010551 -0.38086818 -0.42090343\n -0.46013479 -0.49848734 -0.53588782 -0.57226481 -0.60754882 -0.64167247\n -0.67457058 -0.70618033 -0.73644134 -0.76529581 -0.79268864 -0.8185675\n -0.84288298 -0.86558863 -0.88664108 -0.90600013 -0.9236288  -0.93949343\n -0.95356371 -0.96581277 -0.97621722 -0.98475719 -0.99141635 -0.99618201\n -0.99904505 -1.        ]\n"
    }
   ],
   "source": [
    "f = np.linspace(1, np.pi, 50)\n",
    "f = np.cos(f)\n",
    "print('f: ', f)"
   ]
  },
  {
   "cell_type": "markdown",
   "metadata": {},
   "source": [
    "__2b) Use a 'mask' to get an array that is True when f >= 1/2 and False when f < 1/2. Store the result in an array called g. Print g.__"
   ]
  },
  {
   "cell_type": "code",
   "execution_count": 30,
   "metadata": {},
   "outputs": [
    {
     "name": "stdout",
     "output_type": "stream",
     "text": "g:  [ True  True False False False False False False False False False False\n False False False False False False False False False False False False\n False False False False False False False False False False False False\n False False False False False False False False False False False False\n False False]\n"
    }
   ],
   "source": [
    "g = f>=1/2\n",
    "print('g: ', g)"
   ]
  },
  {
   "cell_type": "markdown",
   "metadata": {},
   "source": [
    "__2c) Create an array called h that has only those values where f>= 1/2. Print h.__"
   ]
  },
  {
   "cell_type": "code",
   "execution_count": 31,
   "metadata": {},
   "outputs": [
    {
     "name": "stdout",
     "output_type": "stream",
     "text": "h:  [0.54030231 0.50302074]\n"
    }
   ],
   "source": [
    "h = f[g]\n",
    "print('h: ', h)"
   ]
  },
  {
   "cell_type": "markdown",
   "metadata": {
    "collapsed": true
   },
   "source": [
    "## NumPy and 2 Variable Prediction"
   ]
  },
  {
   "cell_type": "markdown",
   "metadata": {},
   "source": [
    "__Let 'x' be the number of miles a person drives per day and 'y' be the dollars spent on buying car fuel (per day).__\n",
    "  \n",
    "__We have created 2 numpy arrays each of size 100 that represent x and y.  \n",
    "x (number of miles) ranges from 1 to 10 with a uniform noise of (0,1/2)  \n",
    "y (money spent in dollars) will be from 1 to 20 with a uniform noise (0,1)__ \n"
   ]
  },
  {
   "cell_type": "code",
   "execution_count": 32,
   "metadata": {},
   "outputs": [
    {
     "name": "stdout",
     "output_type": "stream",
     "text": "x =  [ 1.34683976  1.12176759  1.51512398  1.55233174  1.40619168  1.65075498\n  1.79399331  1.80243817  1.89844195  2.00100023  2.3344038   2.22424872\n  2.24914511  2.36268477  2.49808849  2.8212704   2.68452475  2.68229427\n  3.09511169  2.95703884  3.09047742  3.2544361   3.41541904  3.40886375\n  3.50672677  3.74960644  3.64861355  3.7721462   3.56368566  4.01092701\n  4.15630694  4.06088549  4.02517179  4.25169402  4.15897504  4.26835333\n  4.32520644  4.48563164  4.78490721  4.84614839  4.96698768  5.18754259\n  5.29582013  5.32097781  5.0674106   5.47601124  5.46852704  5.64537452\n  5.49642807  5.89755027  5.68548923  5.76276141  5.94613234  6.18135713\n  5.96522091  6.0275473   6.54290191  6.4991329   6.74003765  6.81809807\n  6.50611821  6.91538752  7.01250925  6.89905417  7.31314433  7.20472297\n  7.1043621   7.48199528  7.58957227  7.61744354  7.6991707   7.85436822\n  8.03510784  7.80787781  8.22410224  7.99366248  8.40581097  8.28913792\n  8.45971515  8.54227144  8.6906456   8.61856507  8.83489887  8.66309658\n  8.94837987  9.20890222  8.9614749   8.92608294  9.13231416  9.55889896\n  9.61488451  9.54252979  9.42015491  9.90952569 10.00659591 10.02504265\n 10.07330937  9.93489915 10.0892334  10.36509991]\ny =  [ 1.6635012   2.0214592   2.10816052  2.26016496  1.96287558  2.9554635\n  3.02881887  3.33565296  2.75465779  3.4250107   3.39670148  3.39377767\n  3.78503343  4.38293049  4.32963586  4.03925039  4.73691868  4.30098399\n  4.8416329   4.78175957  4.99765787  5.31746817  5.76844671  5.93723749\n  5.72811642  6.70973615  6.68143367  6.57482731  7.17737603  7.54863252\n  7.30221419  7.3202573   7.78023884  7.91133365  8.2765417   8.69203281\n  8.78219865  8.45897546  8.89094715  8.81719921  8.87106971  9.66192562\n  9.4020625   9.85990783  9.60359778 10.07386266 10.6957995  10.66721916\n 11.18256285 10.57431836 11.46744716 10.94398916 11.26445259 12.09754828\n 12.11988037 12.121557   12.17613693 12.43750193 13.00912372 12.86407194\n 13.24640866 12.76120085 13.11723062 14.07841099 14.19821707 14.27289001\n 14.30624942 14.63060835 14.2770918  15.0744923  14.45261619 15.11897313\n 15.2378667  15.27203124 15.32491892 16.01095271 15.71250558 16.29488506\n 16.70618934 16.56555394 16.42379457 17.18144744 17.13813976 17.69613625\n 17.37763019 17.90942839 17.90343733 18.01951169 18.35727914 18.16841269\n 18.61813748 18.66062754 18.81217983 19.44995194 19.7213867  19.71966726\n 19.78961904 19.64385088 20.69719809 20.07974319]\n"
    }
   ],
   "source": [
    "# seed the random number generator with a fixed value\n",
    "# Do not delete this cell\n",
    "np.random.seed(500)\n",
    "\n",
    "x=np.linspace(1,10,100)+ np.random.uniform(low=0,high=.5,size=100) \n",
    "y=np.linspace(1,20,100)+ np.random.uniform(low=0,high=1,size=100)\n",
    "print ('x = ', x)\n",
    "print ('y = ', y)"
   ]
  },
  {
   "cell_type": "markdown",
   "metadata": {},
   "source": [
    "__3a) Find Expected value of x and the expected value of y. Store the results in two variables called ex and ey.__"
   ]
  },
  {
   "cell_type": "code",
   "execution_count": 33,
   "metadata": {},
   "outputs": [],
   "source": [
    "ex = np.mean(x)\n",
    "ey = np.mean(y)"
   ]
  },
  {
   "cell_type": "markdown",
   "metadata": {},
   "source": [
    "__3b) Find variance of distributions of x and y. Store the results in two variables called varx and vary.__"
   ]
  },
  {
   "cell_type": "code",
   "execution_count": 34,
   "metadata": {},
   "outputs": [],
   "source": [
    "varx = np.mean(x**2)\n",
    "vary = np.mean(y**2)"
   ]
  },
  {
   "cell_type": "markdown",
   "metadata": {},
   "source": [
    "__3c) Find co-variance of x and y. Store the result in a variable called cov.__"
   ]
  },
  {
   "cell_type": "code",
   "execution_count": 35,
   "metadata": {},
   "outputs": [],
   "source": [
    "cov = np.mean(x*y) - ex*ey"
   ]
  },
  {
   "cell_type": "markdown",
   "metadata": {},
   "source": [
    "__3d) Assuming that number of dollars spent in car fuel is only dependant on the miles driven, by  a linear relationship.  \n",
    "Write code that uses a linear predictor to calculate a predicted value of y for each x\n",
    "i.e. y_predicted = f(x) = y0 + kx. Store your predicitions in an array called y_pred. Print y_pred.__  "
   ]
  },
  {
   "cell_type": "code",
   "execution_count": 37,
   "metadata": {},
   "outputs": [
    {
     "data": {
      "text/plain": "array([9.06870403, 9.0471316 , 9.08483353, 9.08839977, 9.07439272,\n       9.09783332, 9.11156225, 9.11237166, 9.12157331, 9.13140319,\n       9.16335884, 9.15280083, 9.15518707, 9.16606948, 9.17904748,\n       9.21002342, 9.19691679, 9.19670301, 9.23627022, 9.22303638,\n       9.23582604, 9.25154094, 9.26697064, 9.26634233, 9.27572218,\n       9.29900141, 9.28932157, 9.30116178, 9.28118151, 9.32404814,\n       9.33798233, 9.3288365 , 9.32541346, 9.34712488, 9.33823806,\n       9.34872162, 9.3541708 , 9.36954704, 9.39823163, 9.4041014 ,\n       9.41568345, 9.43682292, 9.44720097, 9.44961225, 9.42530866,\n       9.4644717 , 9.46375437, 9.48070462, 9.46642859, 9.50487485,\n       9.48454949, 9.49195578, 9.50953128, 9.53207682, 9.51136086,\n       9.51733464, 9.56672971, 9.56253459, 9.58562453, 9.59310637,\n       9.56320411, 9.60243124, 9.61174005, 9.60086575, 9.64055494,\n       9.63016311, 9.62054384, 9.65673876, 9.66704966, 9.66972103,\n       9.67755431, 9.69242949, 9.7097528 , 9.68797354, 9.7278673 ,\n       9.70578039, 9.74528349, 9.73410076, 9.75045003, 9.75836278,\n       9.77258396, 9.76567528, 9.78641017, 9.76994348, 9.79728696,\n       9.82225718, 9.79854207, 9.79514987, 9.81491646, 9.85580323,\n       9.86116926, 9.85423429, 9.84250506, 9.88940966, 9.89871352,\n       9.90048158, 9.90510779, 9.89184162, 9.90663406, 9.93307497])"
     },
     "execution_count": 37,
     "metadata": {},
     "output_type": "execute_result"
    }
   ],
   "source": [
    "k = cov/vary\n",
    "b = ey - cov/varx*ex\n",
    "y_pred = b + k*x\n",
    "y_pred"
   ]
  },
  {
   "cell_type": "markdown",
   "metadata": {},
   "source": [
    "__3e) Put the prediction error into an array called y_error. Print y_error.__"
   ]
  },
  {
   "cell_type": "code",
   "execution_count": 38,
   "metadata": {},
   "outputs": [
    {
     "data": {
      "text/plain": "array([  7.40520284,   7.0256724 ,   6.976673  ,   6.82823482,\n         7.11151714,   6.14236982,   6.08274338,   5.7767187 ,\n         6.36691552,   5.70639249,   5.76665736,   5.75902316,\n         5.37015364,   4.78313899,   4.84941162,   5.17077302,\n         4.45999811,   4.89571902,   4.39463732,   4.44127682,\n         4.23816817,   3.93407277,   3.49852393,   3.32910484,\n         3.54760576,   2.58926526,   2.6078879 ,   2.72633447,\n         2.10380548,   1.77541562,   2.03576814,   2.0085792 ,\n         1.54517462,   1.43579122,   1.06169637,   0.6566888 ,\n         0.57197216,   0.91057158,   0.50728448,   0.58690218,\n         0.54461374,  -0.2251027 ,   0.04513848,  -0.41029557,\n        -0.17828912,  -0.60939095,  -1.23204513,  -1.18651454,\n        -1.71613426,  -1.06944351,  -1.98289767,  -1.45203339,\n        -1.7549213 ,  -2.56547147,  -2.60851951,  -2.60422235,\n        -2.60940722,  -2.87496734,  -3.4234992 ,  -3.27096557,\n        -3.68320455,  -3.15876961,  -3.50549058,  -4.47754524,\n        -4.55766212,  -4.6427269 ,  -4.68570557,  -4.97386959,\n        -4.61004213,  -5.40477127,  -4.77506188,  -5.42654364,\n        -5.5281139 ,  -5.5840577 ,  -5.59705162,  -6.30517231,\n        -5.96722209,  -6.56078431,  -6.95573931,  -6.80719116,\n        -6.65121061,  -7.41577216,  -7.3517296 ,  -7.92619278,\n        -7.58034324,  -8.08717122,  -8.10489526,  -8.22436182,\n        -8.54236269,  -8.31260946,  -8.75696822,  -8.80639325,\n        -8.96967477,  -9.56054228,  -9.82267318,  -9.81918568,\n        -9.88451125,  -9.75200926, -10.79056403, -10.14666823])"
     },
     "execution_count": 38,
     "metadata": {},
     "output_type": "execute_result"
    }
   ],
   "source": [
    "y_error = y_pred - y\n",
    "y_error"
   ]
  },
  {
   "cell_type": "markdown",
   "metadata": {},
   "source": [
    "__3f) Write code that calculates the root mean square error (RMSE), that is root of average of y_error squared. Store the result in a variable called rmse. Print rmse.__"
   ]
  },
  {
   "cell_type": "code",
   "execution_count": 39,
   "metadata": {},
   "outputs": [
    {
     "data": {
      "text/plain": "29.704578353454064"
     },
     "execution_count": 39,
     "metadata": {},
     "output_type": "execute_result"
    }
   ],
   "source": [
    "rmse = np.mean(y_error**2)\n",
    "rmse"
   ]
  },
  {
   "cell_type": "markdown",
   "metadata": {},
   "source": [
    "## Congratulations on completing hw3! Don't forget to click Kernel -> Restart & Run All, and submit this notebook on Gradescope."
   ]
  },
  {
   "cell_type": "code",
   "execution_count": null,
   "metadata": {},
   "outputs": [],
   "source": []
  }
 ],
 "metadata": {
  "anaconda-cloud": {},
  "kernelspec": {
   "display_name": "Python 3.7.6 64-bit ('PythonSelfTest': conda)",
   "language": "python",
   "name": "python37664bitpythonselftestconda57c8dbbc62bb4440a4a2098ad9d72d54"
  },
  "language_info": {
   "codemirror_mode": {
    "name": "ipython",
    "version": 3
   },
   "file_extension": ".py",
   "mimetype": "text/x-python",
   "name": "python",
   "nbconvert_exporter": "python",
   "pygments_lexer": "ipython3",
   "version": "3.7.6-final"
  }
 },
 "nbformat": 4,
 "nbformat_minor": 1
}