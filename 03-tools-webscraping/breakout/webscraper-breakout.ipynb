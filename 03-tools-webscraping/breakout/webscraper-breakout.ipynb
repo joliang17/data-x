{
 "cells": [
  {
   "cell_type": "markdown",
   "metadata": {},
   "source": [
    "## SOLUTIONS Breakout: Web scraping & web crawling\n",
    "\n",
    "**Author List**: Alexander Fred Ojala\n",
    "\n",
    "**Original Sources**: https://www.crummy.com/software/BeautifulSoup/bs4/doc/ & https://www.dataquest.io/blog/web-scraping-tutorial-python/\n",
    "\n",
    "**License**: Feel free to do whatever you want to with this code\n",
    "\n",
    "**Compatibility:** Python 2.x and 3.x"
   ]
  },
  {
   "cell_type": "code",
   "execution_count": null,
   "metadata": {},
   "outputs": [],
   "source": []
  },
  {
   "cell_type": "markdown",
   "metadata": {},
   "source": [
    "---\n",
    "<a id='sec4'></a>\n",
    "# Breakout problem\n",
    "\n",
    "password: scrapecarefully\n",
    "\n",
    "In this week's breakout you should extract live weather data in Berkeley from:\n",
    "\n",
    "[http://forecast.weather.gov/MapClick.php?lat=37.87158815800046&lon=-122.27274583799971](http://forecast.weather.gov/MapClick.php?lat=37.87158815800046&lon=-122.27274583799971)\n",
    "\n",
    "* Task scrape\n",
    "    * period / day (as Tonight, Friday, FridayNight etc.\n",
    "    * the temperature for the period (as Low, High)\n",
    "    * the long weather description (e.g. Partly cloudy, with a low around 49..)\n",
    "    \n",
    "Store the scraped data strings in a Pandas DataFrame. The index of the DataFrame should be the period / day. You may name the columns whatever you wish.\n",
    "\n",
    "\n",
    "\n",
    "**Hint:** The weather information is found in a div tag with `id='seven-day-forecast'`\n",
    "\n"
   ]
  },
  {
   "cell_type": "markdown",
   "metadata": {},
   "source": [
    "# Your solution"
   ]
  },
  {
   "cell_type": "code",
   "execution_count": 28,
   "metadata": {},
   "outputs": [],
   "source": [
    "import requests as req\n",
    "import bs4 as bs \n",
    "import pandas as pd"
   ]
  },
  {
   "cell_type": "code",
   "execution_count": 29,
   "metadata": {},
   "outputs": [],
   "source": [
    "response = req.get('http://forecast.weather.gov/MapClick.php?lat=37.87158815800046&lon=-122.27274583799971').content\n",
    "soup = bs.BeautifulSoup(response, features='html.parser')"
   ]
  },
  {
   "cell_type": "code",
   "execution_count": 34,
   "metadata": {},
   "outputs": [],
   "source": [
    "df0 = pd.DataFrame(columns=[\"Period\", \"Temperature\", \"Description\"])"
   ]
  },
  {
   "cell_type": "code",
   "execution_count": 35,
   "metadata": {},
   "outputs": [],
   "source": [
    "for day in weather_list:\n",
    "    period = day.find(\"p\", class_=\"period-name\").text\n",
    "    temperature = day.find(\"p\", class_=\"temp\").text\n",
    "    temperature = temperature.split(\":\")[0]\n",
    "    description = day.find(\"img\", class_=\"forecast-icon\")['alt']\n",
    "    description = description.split(\":\")[1]\n",
    "    row0 = [period, temperature, description]\n",
    "    row0 = pd.Series(row0, index = df0.columns)\n",
    "    df0 = df0.append(row0, ignore_index=True)\n"
   ]
  },
  {
   "cell_type": "code",
   "execution_count": 36,
   "metadata": {},
   "outputs": [
    {
     "data": {
      "text/html": "<div>\n<style scoped>\n    .dataframe tbody tr th:only-of-type {\n        vertical-align: middle;\n    }\n\n    .dataframe tbody tr th {\n        vertical-align: top;\n    }\n\n    .dataframe thead th {\n        text-align: right;\n    }\n</style>\n<table border=\"1\" class=\"dataframe\">\n  <thead>\n    <tr style=\"text-align: right;\">\n      <th></th>\n      <th>Temperature</th>\n      <th>Description</th>\n    </tr>\n    <tr>\n      <th>Period</th>\n      <th></th>\n      <th></th>\n    </tr>\n  </thead>\n  <tbody>\n    <tr>\n      <th>Today</th>\n      <td>High</td>\n      <td>Sunny, with a high near 70. Calm wind becomin...</td>\n    </tr>\n    <tr>\n      <th>Tonight</th>\n      <td>Low</td>\n      <td>Mostly clear, with a low around 49. South sou...</td>\n    </tr>\n    <tr>\n      <th>Friday</th>\n      <td>High</td>\n      <td>Sunny, with a high near 65. South wind 6 to 1...</td>\n    </tr>\n    <tr>\n      <th>FridayNight</th>\n      <td>Low</td>\n      <td>Partly cloudy, with a low around 49. West sou...</td>\n    </tr>\n    <tr>\n      <th>Saturday</th>\n      <td>High</td>\n      <td>A 50 percent chance of showers.  Mostly cloud...</td>\n    </tr>\n    <tr>\n      <th>SaturdayNight</th>\n      <td>Low</td>\n      <td>Showers.  Low around 48. Chance of precipitat...</td>\n    </tr>\n    <tr>\n      <th>Sunday</th>\n      <td>High</td>\n      <td>Showers.  High near 55. Chance of precipitati...</td>\n    </tr>\n    <tr>\n      <th>SundayNight</th>\n      <td>Low</td>\n      <td>Showers likely, mainly after 11pm.  Mostly cl...</td>\n    </tr>\n    <tr>\n      <th>Monday</th>\n      <td>High</td>\n      <td>Showers likely, mainly after 11am.  Mostly cl...</td>\n    </tr>\n  </tbody>\n</table>\n</div>",
      "text/plain": "              Temperature                                        Description\nPeriod                                                                      \nToday                High   Sunny, with a high near 70. Calm wind becomin...\nTonight               Low   Mostly clear, with a low around 49. South sou...\nFriday               High   Sunny, with a high near 65. South wind 6 to 1...\nFridayNight           Low   Partly cloudy, with a low around 49. West sou...\nSaturday             High   A 50 percent chance of showers.  Mostly cloud...\nSaturdayNight         Low   Showers.  Low around 48. Chance of precipitat...\nSunday               High   Showers.  High near 55. Chance of precipitati...\nSundayNight           Low   Showers likely, mainly after 11pm.  Mostly cl...\nMonday               High   Showers likely, mainly after 11am.  Mostly cl..."
     },
     "execution_count": 36,
     "metadata": {},
     "output_type": "execute_result"
    }
   ],
   "source": [
    "df0 = df0.set_index(\"Period\")\n",
    "df0"
   ]
  },
  {
   "cell_type": "code",
   "execution_count": null,
   "metadata": {},
   "outputs": [],
   "source": [
    "<div class=\"tombstone-container\">\n",
    "<p class=\"period-name\">Today<br><br></p>\n",
    "<p><img src=\"newimages/medium/few.png\" alt=\"Today: Sunny, with a high near 70. Calm wind becoming west 5 to 7 mph in the afternoon. \" title=\"Today: Sunny, with a high near 70. Calm wind becoming west 5 to 7 mph in the afternoon. \" class=\"forecast-icon\"></p><p class=\"short-desc\" style=\"height: 54px;\">Sunny</p><p class=\"temp temp-high\">High: 70 °F</p></div>"
   ]
  }
 ],
 "metadata": {
  "kernelspec": {
   "display_name": "Python 3.7.6 64-bit ('DataX': conda)",
   "language": "python",
   "name": "python37664bitdataxcondadc7c2b614581426fafc69d312a3bbbce"
  },
  "language_info": {
   "codemirror_mode": {
    "name": "ipython",
    "version": 3
   },
   "file_extension": ".py",
   "mimetype": "text/x-python",
   "name": "python",
   "nbconvert_exporter": "python",
   "pygments_lexer": "ipython3",
   "version": "3.7.6-final"
  }
 },
 "nbformat": 4,
 "nbformat_minor": 2
}